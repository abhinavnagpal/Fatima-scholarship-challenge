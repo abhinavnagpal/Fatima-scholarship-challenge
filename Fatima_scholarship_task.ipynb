{
  "nbformat": 4,
  "nbformat_minor": 0,
  "metadata": {
    "accelerator": "GPU",
    "colab": {
      "name": "Fatima scholarship task.ipynb",
      "provenance": [],
      "collapsed_sections": [],
      "toc_visible": true
    },
    "kernelspec": {
      "display_name": "Python 3",
      "name": "python3"
    },
    "widgets": {
      "application/vnd.jupyter.widget-state+json": {
        "1fe851a8aa244d2aa0b03915c414283c": {
          "model_module": "@jupyter-widgets/controls",
          "model_name": "VBoxModel",
          "state": {
            "_view_name": "VBoxView",
            "_dom_classes": [],
            "_model_name": "VBoxModel",
            "_view_module": "@jupyter-widgets/controls",
            "_model_module_version": "1.5.0",
            "_view_count": null,
            "_view_module_version": "1.5.0",
            "box_style": "",
            "layout": "IPY_MODEL_383a0963c8454ad29824b5824bb9fab3",
            "_model_module": "@jupyter-widgets/controls",
            "children": [
              "IPY_MODEL_7d34d2eeac2945c8a28f0e89ed635a77",
              "IPY_MODEL_a3ae2a93569047dbbe7115b4a785e3f9"
            ]
          }
        },
        "383a0963c8454ad29824b5824bb9fab3": {
          "model_module": "@jupyter-widgets/base",
          "model_name": "LayoutModel",
          "state": {
            "_view_name": "LayoutView",
            "grid_template_rows": null,
            "right": null,
            "justify_content": null,
            "_view_module": "@jupyter-widgets/base",
            "overflow": null,
            "_model_module_version": "1.2.0",
            "_view_count": null,
            "flex_flow": null,
            "width": null,
            "min_width": null,
            "border": null,
            "align_items": null,
            "bottom": null,
            "_model_module": "@jupyter-widgets/base",
            "top": null,
            "grid_column": null,
            "overflow_y": null,
            "overflow_x": null,
            "grid_auto_flow": null,
            "grid_area": null,
            "grid_template_columns": null,
            "flex": null,
            "_model_name": "LayoutModel",
            "justify_items": null,
            "grid_row": null,
            "max_height": null,
            "align_content": null,
            "visibility": null,
            "align_self": null,
            "height": null,
            "min_height": null,
            "padding": null,
            "grid_auto_rows": null,
            "grid_gap": null,
            "max_width": null,
            "order": null,
            "_view_module_version": "1.2.0",
            "grid_template_areas": null,
            "object_position": null,
            "object_fit": null,
            "grid_auto_columns": null,
            "margin": null,
            "display": null,
            "left": null
          }
        },
        "7d34d2eeac2945c8a28f0e89ed635a77": {
          "model_module": "@jupyter-widgets/controls",
          "model_name": "LabelModel",
          "state": {
            "_view_name": "LabelView",
            "style": "IPY_MODEL_324d5f46cd9540c7ab78726ecca0a9bf",
            "_dom_classes": [],
            "description": "",
            "_model_name": "LabelModel",
            "placeholder": "​",
            "_view_module": "@jupyter-widgets/controls",
            "_model_module_version": "1.5.0",
            "value": " 4.78MB of 4.78MB uploaded (0.00MB deduped)\r",
            "_view_count": null,
            "_view_module_version": "1.5.0",
            "description_tooltip": null,
            "_model_module": "@jupyter-widgets/controls",
            "layout": "IPY_MODEL_1c27666796e147e3883b1ff28c11b802"
          }
        },
        "a3ae2a93569047dbbe7115b4a785e3f9": {
          "model_module": "@jupyter-widgets/controls",
          "model_name": "FloatProgressModel",
          "state": {
            "_view_name": "ProgressView",
            "style": "IPY_MODEL_7b03caf651bc4d48863989addc3f045d",
            "_dom_classes": [],
            "description": "",
            "_model_name": "FloatProgressModel",
            "bar_style": "",
            "max": 1,
            "_view_module": "@jupyter-widgets/controls",
            "_model_module_version": "1.5.0",
            "value": 1,
            "_view_count": null,
            "_view_module_version": "1.5.0",
            "orientation": "horizontal",
            "min": 0,
            "description_tooltip": null,
            "_model_module": "@jupyter-widgets/controls",
            "layout": "IPY_MODEL_daff39147fff401b9476a3f9e9379f42"
          }
        },
        "324d5f46cd9540c7ab78726ecca0a9bf": {
          "model_module": "@jupyter-widgets/controls",
          "model_name": "DescriptionStyleModel",
          "state": {
            "_view_name": "StyleView",
            "_model_name": "DescriptionStyleModel",
            "description_width": "",
            "_view_module": "@jupyter-widgets/base",
            "_model_module_version": "1.5.0",
            "_view_count": null,
            "_view_module_version": "1.2.0",
            "_model_module": "@jupyter-widgets/controls"
          }
        },
        "1c27666796e147e3883b1ff28c11b802": {
          "model_module": "@jupyter-widgets/base",
          "model_name": "LayoutModel",
          "state": {
            "_view_name": "LayoutView",
            "grid_template_rows": null,
            "right": null,
            "justify_content": null,
            "_view_module": "@jupyter-widgets/base",
            "overflow": null,
            "_model_module_version": "1.2.0",
            "_view_count": null,
            "flex_flow": null,
            "width": null,
            "min_width": null,
            "border": null,
            "align_items": null,
            "bottom": null,
            "_model_module": "@jupyter-widgets/base",
            "top": null,
            "grid_column": null,
            "overflow_y": null,
            "overflow_x": null,
            "grid_auto_flow": null,
            "grid_area": null,
            "grid_template_columns": null,
            "flex": null,
            "_model_name": "LayoutModel",
            "justify_items": null,
            "grid_row": null,
            "max_height": null,
            "align_content": null,
            "visibility": null,
            "align_self": null,
            "height": null,
            "min_height": null,
            "padding": null,
            "grid_auto_rows": null,
            "grid_gap": null,
            "max_width": null,
            "order": null,
            "_view_module_version": "1.2.0",
            "grid_template_areas": null,
            "object_position": null,
            "object_fit": null,
            "grid_auto_columns": null,
            "margin": null,
            "display": null,
            "left": null
          }
        },
        "7b03caf651bc4d48863989addc3f045d": {
          "model_module": "@jupyter-widgets/controls",
          "model_name": "ProgressStyleModel",
          "state": {
            "_view_name": "StyleView",
            "_model_name": "ProgressStyleModel",
            "description_width": "",
            "_view_module": "@jupyter-widgets/base",
            "_model_module_version": "1.5.0",
            "_view_count": null,
            "_view_module_version": "1.2.0",
            "bar_color": null,
            "_model_module": "@jupyter-widgets/controls"
          }
        },
        "daff39147fff401b9476a3f9e9379f42": {
          "model_module": "@jupyter-widgets/base",
          "model_name": "LayoutModel",
          "state": {
            "_view_name": "LayoutView",
            "grid_template_rows": null,
            "right": null,
            "justify_content": null,
            "_view_module": "@jupyter-widgets/base",
            "overflow": null,
            "_model_module_version": "1.2.0",
            "_view_count": null,
            "flex_flow": null,
            "width": null,
            "min_width": null,
            "border": null,
            "align_items": null,
            "bottom": null,
            "_model_module": "@jupyter-widgets/base",
            "top": null,
            "grid_column": null,
            "overflow_y": null,
            "overflow_x": null,
            "grid_auto_flow": null,
            "grid_area": null,
            "grid_template_columns": null,
            "flex": null,
            "_model_name": "LayoutModel",
            "justify_items": null,
            "grid_row": null,
            "max_height": null,
            "align_content": null,
            "visibility": null,
            "align_self": null,
            "height": null,
            "min_height": null,
            "padding": null,
            "grid_auto_rows": null,
            "grid_gap": null,
            "max_width": null,
            "order": null,
            "_view_module_version": "1.2.0",
            "grid_template_areas": null,
            "object_position": null,
            "object_fit": null,
            "grid_auto_columns": null,
            "margin": null,
            "display": null,
            "left": null
          }
        }
      }
    }
  },
  "cells": [
    {
      "cell_type": "markdown",
      "metadata": {
        "id": "_zVrjAk4q6Ji"
      },
      "source": [
        "**Fake news classifier**: Train a text classification model to detect fake news articles!\n",
        "\n",
        "* Download the dataset here: https://www.kaggle.com/clmentbisaillon/fake-and-real-news-dataset\n",
        "* Develop an NLP model using word embeddings, and (if appropriate) apply additional feature engineering\n",
        "* Train your model on the dataset, and generate an AUC curve of your model on the test set of your choice. \n",
        "* Using your model, rank the top 10 words associated with real news articles and fake news articles\n",
        "* *Answer the following question*: what is 1 idea that you have to improve your model's performance on this dataset (you don't have to implement it)"
      ]
    },
    {
      "cell_type": "markdown",
      "metadata": {
        "id": "WumnKshwsEuG"
      },
      "source": [
        "# 1. Import Libraries"
      ]
    },
    {
      "cell_type": "code",
      "metadata": {
        "id": "VvrIZS8mHAmO"
      },
      "source": [
        "!pip3 install emoji lime wandb"
      ],
      "execution_count": null,
      "outputs": []
    },
    {
      "cell_type": "code",
      "metadata": {
        "id": "D1WQGpK1sD0f",
        "colab": {
          "base_uri": "https://localhost:8080/",
          "height": 854,
          "referenced_widgets": [
            "1fe851a8aa244d2aa0b03915c414283c",
            "383a0963c8454ad29824b5824bb9fab3",
            "7d34d2eeac2945c8a28f0e89ed635a77",
            "a3ae2a93569047dbbe7115b4a785e3f9",
            "324d5f46cd9540c7ab78726ecca0a9bf",
            "1c27666796e147e3883b1ff28c11b802",
            "7b03caf651bc4d48863989addc3f045d",
            "daff39147fff401b9476a3f9e9379f42"
          ]
        },
        "outputId": "b3d2c8cb-6ea8-459c-861b-fa6d57ce6d3d"
      },
      "source": [
        "\"\"\" Importing Libraries \"\"\"\n",
        "\n",
        "import numpy as np\n",
        "import pandas as pd\n",
        "import matplotlib.pyplot as plt\n",
        "import os\n",
        "import string\n",
        "import re\n",
        "import pickle\n",
        "import emoji \n",
        "import unicodedata\n",
        "import wandb\n",
        "from wandb.keras import WandbCallback\n",
        "wandb.init(config={\"hyper\": \"parameter\"})\n",
        "from tqdm import tqdm \n",
        "import nltk\n",
        "import tensorflow as tf \n",
        "from tensorflow.keras.preprocessing.text import Tokenizer\n",
        "\n",
        "from sklearn.metrics import accuracy_score\n",
        "from sklearn.model_selection import train_test_split\n",
        "from sklearn.metrics import accuracy_score, confusion_matrix, precision_score, recall_score, plot_roc_curve, roc_curve\n",
        "from sklearn.feature_extraction.text import CountVectorizer\n",
        "from sklearn.linear_model import LogisticRegression\n",
        "from sklearn.metrics import roc_auc_score\n",
        "import seaborn as sns \n",
        "\n",
        "from sklearn.pipeline import make_pipeline\n",
        "from lime import lime_text\n",
        "from lime.lime_text import LimeTextExplainer\n",
        "import lime.lime_tabular\n",
        "\n",
        "nltk.download('stopwords')\n",
        "from nltk.corpus import stopwords\n",
        "\n",
        "%matplotlib inline"
      ],
      "execution_count": 27,
      "outputs": [
        {
          "output_type": "display_data",
          "data": {
            "text/html": [
              "Finishing last run (ID:366k5dac) before initializing another..."
            ],
            "text/plain": [
              "<IPython.core.display.HTML object>"
            ]
          },
          "metadata": {
            "tags": []
          }
        },
        {
          "output_type": "display_data",
          "data": {
            "text/html": [
              "<br/>Waiting for W&B process to finish, PID 3520<br/>Program ended successfully."
            ],
            "text/plain": [
              "<IPython.core.display.HTML object>"
            ]
          },
          "metadata": {
            "tags": []
          }
        },
        {
          "output_type": "display_data",
          "data": {
            "application/vnd.jupyter.widget-view+json": {
              "model_id": "1fe851a8aa244d2aa0b03915c414283c",
              "version_minor": 0,
              "version_major": 2
            },
            "text/plain": [
              "VBox(children=(Label(value=' 4.38MB of 4.38MB uploaded (0.00MB deduped)\\r'), FloatProgress(value=1.0, max=1.0)…"
            ]
          },
          "metadata": {
            "tags": []
          }
        },
        {
          "output_type": "display_data",
          "data": {
            "text/html": [
              "Find user logs for this run at: <code>/content/wandb/run-20210308_084753-366k5dac/logs/debug.log</code>"
            ],
            "text/plain": [
              "<IPython.core.display.HTML object>"
            ]
          },
          "metadata": {
            "tags": []
          }
        },
        {
          "output_type": "display_data",
          "data": {
            "text/html": [
              "Find internal logs for this run at: <code>/content/wandb/run-20210308_084753-366k5dac/logs/debug-internal.log</code>"
            ],
            "text/plain": [
              "<IPython.core.display.HTML object>"
            ]
          },
          "metadata": {
            "tags": []
          }
        },
        {
          "output_type": "display_data",
          "data": {
            "text/html": [
              "<h3>Run summary:</h3><br/><style>\n",
              "    table.wandb td:nth-child(1) { padding: 0 10px; text-align: right }\n",
              "    </style><table class=\"wandb\">\n",
              "<tr><td>epoch</td><td>6</td></tr><tr><td>loss</td><td>0.0505</td></tr><tr><td>accuracy</td><td>0.98271</td></tr><tr><td>val_loss</td><td>0.13413</td></tr><tr><td>val_accuracy</td><td>0.95285</td></tr><tr><td>_runtime</td><td>372</td></tr><tr><td>_timestamp</td><td>1615193645</td></tr><tr><td>_step</td><td>6</td></tr><tr><td>best_val_loss</td><td>0.12206</td></tr><tr><td>best_epoch</td><td>4</td></tr></table>"
            ],
            "text/plain": [
              "<IPython.core.display.HTML object>"
            ]
          },
          "metadata": {
            "tags": []
          }
        },
        {
          "output_type": "display_data",
          "data": {
            "text/html": [
              "<h3>Run history:</h3><br/><style>\n",
              "    table.wandb td:nth-child(1) { padding: 0 10px; text-align: right }\n",
              "    </style><table class=\"wandb\">\n",
              "<tr><td>epoch</td><td>▁▂▃▅▆▇█</td></tr><tr><td>loss</td><td>█▃▂▂▁▁▁</td></tr><tr><td>accuracy</td><td>▁▇▇████</td></tr><tr><td>val_loss</td><td>█▄▂▁▁▂▂</td></tr><tr><td>val_accuracy</td><td>▁▆▄██▇█</td></tr><tr><td>_runtime</td><td>▁▂▃▄▆▇█</td></tr><tr><td>_timestamp</td><td>▁▂▃▄▆▇█</td></tr><tr><td>_step</td><td>▁▂▃▅▆▇█</td></tr></table><br/>"
            ],
            "text/plain": [
              "<IPython.core.display.HTML object>"
            ]
          },
          "metadata": {
            "tags": []
          }
        },
        {
          "output_type": "display_data",
          "data": {
            "text/html": [
              "Synced 5 W&B file(s), 1 media file(s), 0 artifact file(s) and 1 other file(s)"
            ],
            "text/plain": [
              "<IPython.core.display.HTML object>"
            ]
          },
          "metadata": {
            "tags": []
          }
        },
        {
          "output_type": "display_data",
          "data": {
            "text/html": [
              "\n",
              "                    <br/>Synced <strong style=\"color:#cdcd00\">vocal-wind-6</strong>: <a href=\"https://wandb.ai/abhinavnagpal/uncategorized/runs/366k5dac\" target=\"_blank\">https://wandb.ai/abhinavnagpal/uncategorized/runs/366k5dac</a><br/>\n",
              "                "
            ],
            "text/plain": [
              "<IPython.core.display.HTML object>"
            ]
          },
          "metadata": {
            "tags": []
          }
        },
        {
          "output_type": "display_data",
          "data": {
            "text/html": [
              "...Successfully finished last run (ID:366k5dac). Initializing new run:<br/><br/>"
            ],
            "text/plain": [
              "<IPython.core.display.HTML object>"
            ]
          },
          "metadata": {
            "tags": []
          }
        },
        {
          "output_type": "display_data",
          "data": {
            "text/html": [
              "\n",
              "                Tracking run with wandb version 0.10.21<br/>\n",
              "                Syncing run <strong style=\"color:#cdcd00\">revived-bird-7</strong> to <a href=\"https://wandb.ai\" target=\"_blank\">Weights & Biases</a> <a href=\"https://docs.wandb.com/integrations/jupyter.html\" target=\"_blank\">(Documentation)</a>.<br/>\n",
              "                Project page: <a href=\"https://wandb.ai/abhinavnagpal/uncategorized\" target=\"_blank\">https://wandb.ai/abhinavnagpal/uncategorized</a><br/>\n",
              "                Run page: <a href=\"https://wandb.ai/abhinavnagpal/uncategorized/runs/28ewkit5\" target=\"_blank\">https://wandb.ai/abhinavnagpal/uncategorized/runs/28ewkit5</a><br/>\n",
              "                Run data is saved locally in <code>/content/wandb/run-20210308_085430-28ewkit5</code><br/><br/>\n",
              "            "
            ],
            "text/plain": [
              "<IPython.core.display.HTML object>"
            ]
          },
          "metadata": {
            "tags": []
          }
        },
        {
          "output_type": "stream",
          "text": [
            "[nltk_data] Downloading package stopwords to /root/nltk_data...\n",
            "[nltk_data]   Package stopwords is already up-to-date!\n"
          ],
          "name": "stdout"
        }
      ]
    },
    {
      "cell_type": "markdown",
      "metadata": {
        "id": "q94Rv4JLsSCX"
      },
      "source": [
        "# 2. Load Data"
      ]
    },
    {
      "cell_type": "code",
      "metadata": {
        "id": "q3eoBK8DsRG5",
        "colab": {
          "base_uri": "https://localhost:8080/"
        },
        "outputId": "29514674-d9ca-44a5-efc3-7cdf209e7ce8"
      },
      "source": [
        "\"\"\" Loading data \"\"\"\n",
        "\n",
        "true_data = pd.read_csv(os.getcwd() + '/True.csv')\n",
        "fake_data = pd.read_csv(os.getcwd() + '/Fake.csv')\n",
        "print(true_data.shape, fake_data.shape)\n",
        "print(true_data.columns)"
      ],
      "execution_count": 2,
      "outputs": [
        {
          "output_type": "stream",
          "text": [
            "(21417, 4) (23481, 4)\n",
            "Index(['title', 'text', 'subject', 'date'], dtype='object')\n"
          ],
          "name": "stdout"
        }
      ]
    },
    {
      "cell_type": "code",
      "metadata": {
        "id": "G4uDuLZLua2z"
      },
      "source": [
        "true_data['label'] = 1\n",
        "fake_data['label'] = 0\n",
        "\n",
        "full_data = pd.concat([true_data, fake_data])\n",
        "full_data = full_data.drop(['date'], axis=1)"
      ],
      "execution_count": null,
      "outputs": []
    },
    {
      "cell_type": "markdown",
      "metadata": {
        "id": "IgPp0MKMxAIr"
      },
      "source": [
        "# 3. Preprocessing"
      ]
    },
    {
      "cell_type": "code",
      "metadata": {
        "id": "0F51uR6e54JO"
      },
      "source": [
        "contraction_mapping = {\n",
        "    \"Trump's\" : 'trump is',\"'cause\": 'because',',cause': 'because',';cause': 'because',\"ain't\": 'am not','ain,t': 'am not',\n",
        "    'ain;t': 'am not','ain´t': 'am not','ain’t': 'am not',\"aren't\": 'are not',\n",
        "    'aren,t': 'are not','aren;t': 'are not','aren´t': 'are not','aren’t': 'are not',\"can't\": 'cannot',\"can't've\": 'cannot have','can,t': 'cannot','can,t,ve': 'cannot have',\n",
        "    'can;t': 'cannot','can;t;ve': 'cannot have',\n",
        "    'can´t': 'cannot','can´t´ve': 'cannot have','can’t': 'cannot','can’t’ve': 'cannot have',\n",
        "    \"could've\": 'could have','could,ve': 'could have','could;ve': 'could have',\"couldn't\": 'could not',\"couldn't've\": 'could not have','couldn,t': 'could not','couldn,t,ve': 'could not have','couldn;t': 'could not',\n",
        "    'couldn;t;ve': 'could not have','couldn´t': 'could not',\n",
        "    'couldn´t´ve': 'could not have','couldn’t': 'could not','couldn’t’ve': 'could not have','could´ve': 'could have',\n",
        "    'could’ve': 'could have',\"didn't\": 'did not','didn,t': 'did not','didn;t': 'did not','didn´t': 'did not',\n",
        "    'didn’t': 'did not',\"doesn't\": 'does not','doesn,t': 'does not','doesn;t': 'does not','doesn´t': 'does not',\n",
        "    'doesn’t': 'does not',\"don't\": 'do not',\"Don't\": 'do not','don,t': 'do not','don;t': 'do not','don´t': 'do not',\"They're\":'they are','don’t': 'do not','Don’t': 'do not',\n",
        "    \"hadn't\": 'had not',\"hadn't've\": 'had not have','hadn,t': 'had not','hadn,t,ve': 'had not have','hadn;t': 'had not',\n",
        "    'hadn;t;ve': 'had not have','hadn´t': 'had not','hadn´t´ve': 'had not have','hadn’t': 'had not','hadn’t’ve': 'had not have',\"hasn't\": 'has not','hasn,t': 'has not','hasn;t': 'has not','hasn´t': 'has not','hasn’t': 'has not',\n",
        "    \"haven't\": 'have not','haven,t': 'have not','haven;t': 'have not','haven´t': 'have not','haven’t': 'have not',\"he'd\": 'he would',\n",
        "    \"he'd've\": 'he would have',\"he'll\": 'he will',\n",
        "    \"he's\": 'he is',\"He's\": 'he is','he,d': 'he would','he,d,ve': 'he would have','he,ll': 'he will','he,s': 'he is','he;d': 'he would',\n",
        "    'he;d;ve': 'he would have','he;ll': 'he will','he;s': 'he is','he´d': 'he would','he´d´ve': 'he would have','he´ll': 'he will',\n",
        "    'he´s': 'he is','he’d': 'he would','he’d’ve': 'he would have','he’ll': 'he will','he’s': 'he is',\"how'd\": 'how did',\"how'll\": 'how will',\n",
        "    \"how's\": 'how is','how,d': 'how did','how,ll': 'how will','how,s': 'how is','how;d': 'how did','how;ll': 'how will',\n",
        "    'how;s': 'how is','how´d': 'how did','how´ll': 'how will','how´s': 'how is','how’d': 'how did','how’ll': 'how will',\n",
        "    'how’s': 'how is',\"i'd\": 'i would',\"I'd\": 'i would',\"i'll\": 'i will',\"I'll\": 'i will',\"i'm\": 'i am',\"I'm\": 'i am',\"i've\": 'i have',\"I've\": 'i have','i,d': 'i would','i,ll': 'i will',\n",
        "    'i,m': 'i am','i,ve': 'i have','i;d': 'i would','i;ll': 'i will','i;m': 'i am','i;ve': 'i have',\"isn't\": 'is not',\n",
        "    'isn,t': 'is not','isn;t': 'is not','isn´t': 'is not','isn’t': 'is not',\"it'd\": 'it would',\"it'll\": 'it will',\"It's\":'it is',\n",
        "    \"it's\": 'it is','it,d': 'it would','it,ll': 'it will','it,s': 'it is','it;d': 'it would','it;ll': 'it will','it;s': 'it is','it´d': 'it would','it´ll': 'it will','it´s': 'it is',\n",
        "    'it’d': 'it would','it’ll': 'it will','it’s': 'it is',\"It's\":'it is',\n",
        "    'i´d': 'i would','i´ll': 'i will','i´m': 'i am','i´ve': 'i have','i’d': 'i would','i’ll': 'i will','i’m': 'i am','I’m': 'i am',\n",
        "    'i’ve': 'i have','I’ve': 'i have',\"let's\": 'let us','let,s': 'let us','let;s': 'let us','let´s': 'let us',\n",
        "    'let’s': 'let us',\"ma'am\": 'madam','ma,am': 'madam','ma;am': 'madam',\"mayn't\": 'may not','mayn,t': 'may not','mayn;t': 'may not',\n",
        "    'mayn´t': 'may not','mayn’t': 'may not','ma´am': 'madam','ma’am': 'madam',\"might've\": 'might have','might,ve': 'might have','might;ve': 'might have',\"mightn't\": 'might not','mightn,t': 'might not','mightn;t': 'might not','mightn´t': 'might not',\n",
        "    'mightn’t': 'might not','might´ve': 'might have','might’ve': 'might have',\"must've\": 'must have','must,ve': 'must have','must;ve': 'must have',\n",
        "    \"mustn't\": 'must not','mustn,t': 'must not','mustn;t': 'must not','mustn´t': 'must not','mustn’t': 'must not','must´ve': 'must have',\n",
        "    'must’ve': 'must have',\"needn't\": 'need not','needn,t': 'need not','needn;t': 'need not','needn´t': 'need not','needn’t': 'need not',\"oughtn't\": 'ought not','oughtn,t': 'ought not','oughtn;t': 'ought not',\n",
        "    'oughtn´t': 'ought not','oughtn’t': 'ought not',\"sha'n't\": 'shall not','sha,n,t': 'shall not','sha;n;t': 'shall not',\"shan't\": 'shall not',\n",
        "    'shan,t': 'shall not','shan;t': 'shall not','shan´t': 'shall not','shan’t': 'shall not','sha´n´t': 'shall not','sha’n’t': 'shall not',\n",
        "    \"she'd\": 'she would',\"she'll\": 'she will',\"she's\": 'she is','she,d': 'she would','she,ll': 'she will',\n",
        "    'she,s': 'she is','she;d': 'she would','she;ll': 'she will','she;s': 'she is','she´d': 'she would','she´ll': 'she will',\n",
        "    'she´s': 'she is','she’d': 'she would','she’ll': 'she will','she’s': 'she is',\"should've\": 'should have','should,ve': 'should have','should;ve': 'should have',\n",
        "    \"shouldn't\": 'should not','shouldn,t': 'should not','shouldn;t': 'should not','shouldn´t': 'should not','shouldn’t': 'should not','should´ve': 'should have',\n",
        "    'should’ve': 'should have',\"that'd\": 'that would',\"that's\": 'that is','that,d': 'that would','that,s': 'that is','that;d': 'that would',\n",
        "    'that;s': 'that is','that´d': 'that would','that´s': 'that is','that’d': 'that would','that’s': 'that is',\"there'd\": 'there had',\n",
        "    \"there's\": 'there is','there,d': 'there had','there,s': 'there is','there;d': 'there had','there;s': 'there is',\n",
        "    'there´d': 'there had','there´s': 'there is','there’d': 'there had','there’s': 'there is',\n",
        "    \"they'd\": 'they would',\"they'll\": 'they will',\"they're\": 'they are',\"they've\": 'they have',\n",
        "    'they,d': 'they would','they,ll': 'they will','they,re': 'they are','they,ve': 'they have','they;d': 'they would','they;ll': 'they will','they;re': 'they are',\n",
        "    'they;ve': 'they have','they´d': 'they would','they´ll': 'they will','they´re': 'they are','they´ve': 'they have','they’d': 'they would','they’ll': 'they will',\n",
        "    'they’re': 'they are','they’ve': 'they have',\"wasn't\": 'was not','wasn,t': 'was not','wasn;t': 'was not','wasn´t': 'was not',\n",
        "    'wasn’t': 'was not',\"we'd\": 'we would',\"we'll\": 'we will',\"we're\": 'we are',\"we've\": 'we have',\"We've\": 'we have','we,d': 'we would','we,ll': 'we will',\n",
        "    'we,re': 'we are','we,ve': 'we have','we;d': 'we would','we;ll': 'we will','we;re': 'we are','we;ve': 'we have',\n",
        "    \"weren't\": 'were not','weren,t': 'were not','weren;t': 'were not','weren´t': 'were not','weren’t': 'were not','we´d': 'we would','we´ll': 'we will',\n",
        "    'we´re': 'we are','we´ve': 'we have','we’d': 'we would','we’ll': 'we will','we’re': 'we are','we’ve': 'we have','We’ve': 'we have',\"what'll\": 'what will',\"what're\": 'what are',\"what's\": 'what is',\n",
        "    \"what've\": 'what have','what,ll': 'what will','what,re': 'what are','what,s': 'what is','what,ve': 'what have','what;ll': 'what will','what;re': 'what are',\n",
        "    'what;s': 'what is','what;ve': 'what have','what´ll': 'what will',\n",
        "    'what´re': 'what are','what´s': 'what is','what´ve': 'what have','what’ll': 'what will','what’re': 'what are','what’s': 'what is',\n",
        "    'what’ve': 'what have',\"where'd\": 'where did',\"where's\": 'where is','where,d': 'where did','where,s': 'where is','where;d': 'where did',\n",
        "    'where;s': 'where is','where´d': 'where did','where´s': 'where is','where’d': 'where did','where’s': 'where is',\n",
        "    \"who'll\": 'who will',\"who's\": 'who is','who,ll': 'who will','who,s': 'who is','who;ll': 'who will','who;s': 'who is',\n",
        "    'who´ll': 'who will','who´s': 'who is','who’ll': 'who will','who’s': 'who is',\"won't\": 'will not','won,t': 'will not','won;t': 'will not',\n",
        "    'won´t': 'will not','won’t': 'will not',\"wouldn't\": 'would not','wouldn,t': 'would not','wouldn;t': 'would not','wouldn´t': 'would not',\n",
        "    'wouldn’t': 'would not',\"you'd\": 'you would',\"you'll\": 'you will',\"you're\": 'you are','you,d': 'you would','you,ll': 'you will',\n",
        "    'you,re': 'you are','you;d': 'you would','you;ll': 'you will',\n",
        "    'you;re': 'you are','you´d': 'you would','you´ll': 'you will','you´re': 'you are','you’d': 'you would','you’ll': 'you will','you’re': 'you are',\n",
        "    '´cause': 'because','’cause': 'because',\"you've\": \"you have\",\"could'nt\": 'could not',\n",
        "    \"havn't\": 'have not',\"here’s\": \"here is\",'i\"\"m': 'i am',\"i'am\": 'i am',\"i'l\": \"i will\",\"i'v\": 'i have',\"wan't\": 'want',\"was'nt\": \"was not\",\"who'd\": \"who would\",\n",
        "    \"who're\": \"who are\",\"who've\": \"who have\",\"why'd\": \"why would\",\"would've\": \"would have\",\"y'all\": \"you all\",\"y'know\": \"you know\",\"you.i\": \"you i\",\n",
        "    \"your'e\": \"you are\",\"arn't\": \"are not\",\"agains't\": \"against\",\"c'mon\": \"common\",\"doens't\": \"does not\",'don\"\"t': \"do not\",\"dosen't\": \"does not\",\n",
        "    \"dosn't\": \"does not\",\"shoudn't\": \"should not\",\"that'll\": \"that will\",\"there'll\": \"there will\",\"there're\": \"there are\",\n",
        "    \"this'll\": \"this all\",\"u're\": \"you are\", \"ya'll\": \"you all\",\"you'r\": \"you are\",\"you’ve\": \"you have\",\"d'int\": \"did not\",\"did'nt\": \"did not\",\"din't\": \"did not\",\"dont't\": \"do not\",\"gov't\": \"government\",\n",
        "    \"i'ma\": \"i am\",\"is'nt\": \"is not\",\"‘I\":'I',\n",
        "    'ᴀɴᴅ':'and','ᴛʜᴇ':'the','ʜᴏᴍᴇ':'home','ᴜᴘ':'up','ʙʏ':'by','ᴀᴛ':'at','…and':'and','civilbeat':'civil beat',\\\n",
        "    'TrumpCare':'Trump care','Trumpcare':'Trump care', 'OBAMAcare':'Obama care','ᴄʜᴇᴄᴋ':'check','ғᴏʀ':'for','ᴛʜɪs':'this','ᴄᴏᴍᴘᴜᴛᴇʀ':'computer',\\\n",
        "    'ᴍᴏɴᴛʜ':'month','ᴡᴏʀᴋɪɴɢ':'working','ᴊᴏʙ':'job','ғʀᴏᴍ':'from','Sᴛᴀʀᴛ':'start','gubmit':'submit','CO₂':'carbon dioxide','ғɪʀsᴛ':'first',\\\n",
        "    'ᴇɴᴅ':'end','ᴄᴀɴ':'can','ʜᴀᴠᴇ':'have','ᴛᴏ':'to','ʟɪɴᴋ':'link','ᴏғ':'of','ʜᴏᴜʀʟʏ':'hourly','ᴡᴇᴇᴋ':'week','ᴇɴᴅ':'end','ᴇxᴛʀᴀ':'extra',\\\n",
        "    'Gʀᴇᴀᴛ':'great','sᴛᴜᴅᴇɴᴛs':'student','sᴛᴀʏ':'stay','ᴍᴏᴍs':'mother','ᴏʀ':'or','ᴀɴʏᴏɴᴇ':'anyone','ɴᴇᴇᴅɪɴɢ':'needing','ᴀɴ':'an','ɪɴᴄᴏᴍᴇ':'income',\\\n",
        "    'ʀᴇʟɪᴀʙʟᴇ':'reliable','ғɪʀsᴛ':'first','ʏᴏᴜʀ':'your','sɪɢɴɪɴɢ':'signing','ʙᴏᴛᴛᴏᴍ':'bottom','ғᴏʟʟᴏᴡɪɴɢ':'following','Mᴀᴋᴇ':'make',\\\n",
        "    'ᴄᴏɴɴᴇᴄᴛɪᴏɴ':'connection','ɪɴᴛᴇʀɴᴇᴛ':'internet','financialpost':'financial post', 'ʜaᴠᴇ':' have ', 'ᴄaɴ':' can ', 'Maᴋᴇ':' make ', 'ʀᴇʟɪaʙʟᴇ':' reliable ', 'ɴᴇᴇᴅ':' need ',\n",
        "    'ᴏɴʟʏ':' only ', 'ᴇxᴛʀa':' extra ', 'aɴ':' an ', 'aɴʏᴏɴᴇ':' anyone ', 'sᴛaʏ':' stay ', 'Sᴛaʀᴛ':' start', 'SHOPO':'shop',\" :‑)\":'smiley',\\\n",
        "    \" :)\":'smiley',\" :-]\":'smiley',\" :]\":'smiley',\" :‑D\":'laughing',\" :D\":'laughing',\" =D\":'laughing',\" :‑(\":'sad',\" :(\":'sad',\" ;)\":'wink',\" :P\":'cheeky', \"he'll've\":\"he will have\",\n",
        "    \"how'd'y\":\"how do you\", \"i'd've\":\"i would have\",\"i'll've\":\"i will have\",\"it'd've\":\"it would have\", \"it'll've\":\"it will have\", \"mightn't've\":\"might not have\",\n",
        "    \"mustn't've\":\"must not have\", \"needn't've\":\"need not have\", \"o'clock\":\"of the clock\", \"oughtn't've\":\"ought not have\", \"shan't've\":\"shall not have\", \"she'd've\":\"she would have\",\n",
        "    \"she'll've\":\"she will have\", \"shouldn't've\":\"should not have\", \"so've\":\"so have\", \"so's\":\"so is\", \"that'd've\":\"that would have\", \"there'd've\":\"there would have\",\n",
        "    \"they'd've\":\"they would have\", \"they'll've\":\"they will have\", \"to've\":\"to have\", \"we'd've\":\"we would have\", \"we'll've\":\"we will have\", \"what'll've\":\"what will have\",\n",
        "    \"when's\":\"when is\", \"when've\":\"when have\", \"where've\":\"where have\", \"who'll've\":\"who will have\", \"why's\":\"why is\", \"why've\":\"why have\", \"will've\":\"will have\", \"won't've\":\"will not have\",\n",
        "    \"wouldn't've\":\"would not have\", \"y'alls\":\"you alls\", \"y'all'd\":\"you all would\", \"y'all'd've\":\"you all would have\", \"y'all're\":\"you all are\", \"y'all've\":\"you all have\", \"you'd've\":\"you would have\", \"you'll've\":\"you will have\",\n",
        "    }"
      ],
      "execution_count": 46,
      "outputs": []
    },
    {
      "cell_type": "code",
      "metadata": {
        "id": "XhWv8a76GG2w"
      },
      "source": [
        "special_characters = {\n",
        "    \"’\": \"'\", \"‘\": \"'\", \"´\": \"'\", \"`\": \"'\", \"…\": \"...\", \"&\": \" and \", \"“\": '\"', \"”\": '\"',\n",
        "    \"⁰\": \"0\", \"¹\": \"1\", \"²\": \"2\", \"³\": \"3\", \"⁴\": \"4\", \"⁵\": \"5\", \"⁶\": \"6\", \"⁷\": \"7\", \"⁸\": \"8\", \"⁹\": \"9\",\n",
        "    \"₀\": \"0\", \"₁\": \"1\", \"₂\": \"2\", \"₃\": \"3\", \"₄\": \"4\", \"₅\": \"5\", \"₆\": \"6\", \"₇\": \"7\", \"₈\": \"8\", \"₉\": \"9\", \n",
        "    \"ᴀ\": \"a\", \"ʙ\": \"b\", \"ᴄ\": \"c\", \"ᴅ\": \"d\", \"ᴇ\": \"e\", \"ғ\": \"f\", \"ɢ\": \"g\", \"ʜ\": \"h\", \"ɪ\": \"i\", \n",
        "    \"ᴊ\": \"j\", \"ᴋ\": \"k\", \"ʟ\": \"l\", \"ᴍ\": \"m\", \"ɴ\": \"n\", \"ᴏ\": \"o\", \"ᴘ\": \"p\", \"ǫ\": \"q\", \"ʀ\": \"r\", \n",
        "    \"s\": \"s\", \"ᴛ\": \"t\", \"ᴜ\": \"u\", \"ᴠ\": \"v\", \"ᴡ\": \"w\", \"x\": \"x\", \"ʏ\": \"y\", \"ᴢ\": \"z\"\n",
        "}"
      ],
      "execution_count": 47,
      "outputs": []
    },
    {
      "cell_type": "code",
      "metadata": {
        "id": "qrw8IigP54Lf"
      },
      "source": [
        "def remove_whitespace(text):\n",
        "    \"\"\"remove whitespaces from text\"\"\"\n",
        "\n",
        "    text = text.strip()\n",
        "    return \" \".join(text.split())\n",
        "\n",
        "punctuations = string.punctuation\n",
        "\n",
        "def remove_punctuation(text):\n",
        "  \"\"\" function to remove punctuations \"\"\"\n",
        "\n",
        "  return text.translate(str.maketrans('', '', punctuations))\n",
        "\n",
        "def replace_usernames(text, filler='user'):\n",
        "    \"\"\" To remove twitter handles \"\"\"\n",
        "\n",
        "    username_regex = re.compile(r'(^|[^@\\w])@(\\w{1,15})\\b')\n",
        "\n",
        "    text = text.replace('@<user>', f'{filler}')\n",
        "\n",
        "    text = re.sub(username_regex, filler, text)\n",
        "\n",
        "    text = text.replace(filler, f' {filler} ')\n",
        "\n",
        "    text = ' '.join(text.split())\n",
        "\n",
        "    return text\n",
        "  \n",
        "def replace_urls(text, filler='url'):\n",
        "\n",
        "    \"\"\" replacing urls \"\"\"\n",
        "\n",
        "    url_regex = re.compile(r'((www\\.[^\\s]+)|(https?://[^\\s]+)|(http?://[^\\s]+))')\n",
        "\n",
        "    text = text.replace('<url>', filler)\n",
        "\n",
        "    text = re.sub(url_regex, filler, text)\n",
        "\n",
        "    text = text.replace(filler, f' {filler} ')\n",
        "\n",
        "    text = ' '.join(text.split())\n",
        "\n",
        "    return text\n",
        "\n",
        "def expand_contractions(text,contraction_mapping):\n",
        "  \"\"\" expanding contractions \"\"\"\n",
        "\n",
        "  for i in contraction_mapping:\n",
        "    if i in text:\n",
        "      text = text.replace(i, contraction_mapping[i])\n",
        "\n",
        "  return text\n",
        "\n",
        "def replace_special_characters(text, special_characters):\n",
        "  special_characters_re = re.compile('({})'.format('|'.join(special_characters.keys())))\n",
        "  special_characters_map = lambda match: special_characters[match.group(0)]\n",
        "  \n",
        "  text = special_characters_re.sub(special_characters_map, text)\n",
        "  return text\n",
        "\n",
        "\n",
        "with open('/content/Emoji_Dict.p', 'rb') as fp:\n",
        "  Emoji_Dict = pickle.load(fp)\n",
        "\n",
        "Emoji_Dict = {v: k for k, v in Emoji_Dict.items()}\n",
        "\n",
        "def replace_remove_emoji(text, Emoji_Dict):\n",
        "  emoji_pattern = re.compile(\"[\"\n",
        "                          u\"\\U0001F600-\\U0001F64F\" # emoticons\n",
        "                          u\"\\U0001F300-\\U0001F5FF\" # symbols & pictographs\n",
        "                          u\"\\U0001F680-\\U0001F6FF\" # transport & map symbols\n",
        "                          u\"\\U0001F1E0-\\U0001F1FF\" # flags (iOS)\n",
        "                          u\"\\U00002702-\\U000027B0\"\n",
        "                          u\"\\U000024C2-\\U0001F251\"\n",
        "                          \"]+\", flags=re.UNICODE)\n",
        "  \n",
        "  for emo in Emoji_Dict:\n",
        "    if emo in text:\n",
        "      text = re.sub(r'('+emo+')', \"_\".join(Emoji_Dict[emo].replace(\",\",\"\").replace(\":\",\"\").split()), text)\n",
        "  \n",
        "  text = emoji.get_emoji_regexp().sub(u'', text) \n",
        "\n",
        "  return text\n",
        "\n",
        "def strip_chinese(string):\n",
        "  en_list = re.findall(u'[^\\u4E00-\\u9FA5]', string)\n",
        "  for c in string:\n",
        "    if c not in en_list:\n",
        "      string = string.replace(c, '')\n",
        "  return string\n",
        "\n",
        "stopword = set(stopwords.words('english'))\n",
        "def remove_stopwords(text, stopword):\n",
        "    \"\"\"function to remove the stopwords\"\"\"\n",
        "\n",
        "    return \" \".join([word for word in str(text).split() if word not in stopword])\n",
        "\n",
        "def remove_accents(text):\n",
        "  text = unicodedata.normalize('NFKD', text).encode('ascii', 'ignore').decode('utf-8', 'ignore')\n",
        "  return text\n",
        "  "
      ],
      "execution_count": 48,
      "outputs": []
    },
    {
      "cell_type": "code",
      "metadata": {
        "id": "__KiNOFo7jOp"
      },
      "source": [
        "def data_preprocessing(text, contraction_mapping, stopword, special_characters, Emoji_Dict, \n",
        "                       lowercase=True, punctuations=True, usernames=True, urls=True,  \n",
        "                       contractions=True, special_chars=True, emoji=True, chinese=True, \n",
        "                       stop_words=True, accented_chars=True, extra_whitespace=True):\n",
        "\n",
        "  if lowercase == True: #convert all characters to lowercase\n",
        "    text = text.lower()\n",
        "  \n",
        "  if extra_whitespace == True: \n",
        "    text = remove_whitespace(text)\n",
        "        \n",
        "  if accented_chars == True: #replaced accented characters\n",
        "    text = remove_accents(text)\n",
        "\n",
        "  if chinese  == True:\n",
        "    text = strip_chinese(text)\n",
        "\n",
        "  if contractions == True: #expand contractions\n",
        "    text = expand_contractions(text, contraction_mapping)\n",
        "\n",
        "  if emoji == True:\n",
        "    text = replace_remove_emoji(text, Emoji_Dict)\n",
        "\n",
        "  if stop_words == True:\n",
        "    text = remove_stopwords(text, stopword)\n",
        "\n",
        "  if special_chars == True: \n",
        "    text = replace_special_characters(text, special_characters)\n",
        "\n",
        "  if punctuations == True:\n",
        "    text = remove_punctuation(text)\n",
        "\n",
        "  if usernames == True:\n",
        "    text = replace_usernames(text)\n",
        "\n",
        "  if urls == True:\n",
        "    text = replace_urls(text)\n",
        "\n",
        "  return text\n"
      ],
      "execution_count": 49,
      "outputs": []
    },
    {
      "cell_type": "code",
      "metadata": {
        "id": "7tioDQHKhhp3"
      },
      "source": [
        "text = full_data['text'].values\n",
        "title = full_data['title'].values\n",
        "\n",
        "for i in tqdm(range(full_data.shape[0])):\n",
        "  title[i] = data_preprocessing(title[i], contraction_mapping, stopword, special_characters, Emoji_Dict)\n",
        "\n",
        "for i in tqdm(range(full_data.shape[0])):\n",
        "  text[i] = data_preprocessing(text[i], contraction_mapping, stopword, special_characters, Emoji_Dict)\n",
        "\n",
        "full_data['modified_title'] = title\n",
        "full_data['modified_text'] = text\n",
        "\n",
        "full_data.to_csv('/content/full_data.csv', index=False, columns=list(full_data.columns))"
      ],
      "execution_count": null,
      "outputs": []
    },
    {
      "cell_type": "code",
      "metadata": {
        "id": "OVjcM3TxcOWv"
      },
      "source": [
        "full_data = pd.read_csv('/content/full_data.csv')\n",
        "full_data['combined'] = full_data['title'] + \" \" + full_data['text'] \n",
        "full_data = full_data.dropna()"
      ],
      "execution_count": 8,
      "outputs": []
    },
    {
      "cell_type": "markdown",
      "metadata": {
        "id": "X-8XfWVHJ3Gv"
      },
      "source": [
        "## 4. Pre-analysis"
      ]
    },
    {
      "cell_type": "markdown",
      "metadata": {
        "id": "jb8aml4-tSmi"
      },
      "source": [
        "## 4.1 Distribution of True/Fake"
      ]
    },
    {
      "cell_type": "code",
      "metadata": {
        "colab": {
          "base_uri": "https://localhost:8080/",
          "height": 281
        },
        "id": "WhP0yfmktwtZ",
        "outputId": "06a2fbe9-2cfd-4246-acdb-8f9d1fb678ca"
      },
      "source": [
        "true_data = full_data[full_data['label']== 1]\n",
        "fake_data = full_data[full_data['label']== 0]\n",
        "\n",
        "plt.ylabel('Count')\n",
        "plt.title('Total Number of news articles')\n",
        "plt.bar(x='True', height=true_data.shape[0])\n",
        "plt.bar(x='Fake', height=fake_data.shape[0])\n",
        "plt.show()"
      ],
      "execution_count": 9,
      "outputs": [
        {
          "output_type": "display_data",
          "data": {
            "image/png": "[encoded data removed]",
            "text/plain": [
              "<Figure size 432x288 with 1 Axes>"
            ]
          },
          "metadata": {
            "tags": [],
            "needs_background": "light"
          }
        }
      ]
    },
    {
      "cell_type": "markdown",
      "metadata": {
        "id": "jw_WyJn7wcvB"
      },
      "source": [
        "## 4.2 Distribution of True/Fake Subjects"
      ]
    },
    {
      "cell_type": "code",
      "metadata": {
        "colab": {
          "base_uri": "https://localhost:8080/",
          "height": 344
        },
        "id": "X1EFrxdUw9St",
        "outputId": "600d232a-a65c-4c25-c05c-2b52107030e5"
      },
      "source": [
        "subject_count = full_data.groupby('subject').apply(lambda z:z['text'].count())\n",
        "\n",
        "plt.ylabel('Count')\n",
        "plt.title('Total Number of news articles')\n",
        "plt.bar(x=subject_count.keys(),  height=subject_count.values)\n",
        "plt.xticks(rotation = 45)\n",
        "\n",
        "plt.show()"
      ],
      "execution_count": 10,
      "outputs": [
        {
          "output_type": "display_data",
          "data": {
            "image/png": "[encoded data removed]",
            "text/plain": [
              "<Figure size 432x288 with 1 Axes>"
            ]
          },
          "metadata": {
            "tags": [],
            "needs_background": "light"
          }
        }
      ]
    },
    {
      "cell_type": "markdown",
      "metadata": {
        "id": "QnO32KcZiLNs"
      },
      "source": [
        "# 5. Model"
      ]
    },
    {
      "cell_type": "markdown",
      "metadata": {
        "id": "w0d8o5GVCMpZ"
      },
      "source": [
        "## 5.1 Baseline-1: Logistic Regression"
      ]
    },
    {
      "cell_type": "code",
      "metadata": {
        "id": "tKAmQhcLDeR-"
      },
      "source": [
        "\"\"\" Params \"\"\"\n",
        "\n",
        "test_train_split=0.8"
      ],
      "execution_count": 11,
      "outputs": []
    },
    {
      "cell_type": "code",
      "metadata": {
        "id": "olcOr327Cb4N"
      },
      "source": [
        "def get_train_test(full_data, feature, test_train_split):\n",
        "  \"\"\" Get train-test splits \"\"\"\n",
        "\n",
        "  if feature == 'title':\n",
        "    X = full_data['title']\n",
        "  elif feature == 'text':\n",
        "    X = full_data['text']\n",
        "  elif feature == 'both':\n",
        "    X = full_data['combined']\n",
        "  \n",
        "  Y = full_data['label']\n",
        "  train_x, test_x, train_y, test_y = train_test_split(X, Y, test_size=(1-test_train_split),random_state=2)\n",
        "  return train_x, test_x, train_y, test_y\n",
        "\n",
        "def get_vectors(train_x, test_x):  \n",
        "  \"\"\" Get train-test vectors \"\"\"\n",
        "\n",
        "  train_vector = CountVectorizer().fit(train_x)\n",
        "  train_vector_x = train_vector.transform(train_x)\n",
        "  test_vector_x = train_vector.transform(test_x)\n",
        "\n",
        "  return train_vector, train_vector_x, test_vector_x"
      ],
      "execution_count": 12,
      "outputs": []
    },
    {
      "cell_type": "markdown",
      "metadata": {
        "id": "LN7Tk4gqMwk9"
      },
      "source": [
        "***1. Considering only title***"
      ]
    },
    {
      "cell_type": "code",
      "metadata": {
        "colab": {
          "base_uri": "https://localhost:8080/",
          "height": 296
        },
        "id": "xQT_F8twDwCA",
        "outputId": "30c1637b-4398-4c5c-c5cf-6ec2d5968cab"
      },
      "source": [
        "train_x, test_x, train_y, test_y = get_train_test(full_data, 'title', test_train_split)\n",
        "train_vector, train_vector_x, test_vector_x = get_vectors(train_x, test_x)\n",
        "\n",
        "baseline_model_1 = LogisticRegression(C=2, max_iter=200)\n",
        "baseline_model_1.fit(train_vector_x, train_y)\n",
        "preds= baseline_model_1.predict(test_vector_x)\n",
        "acc = roc_auc_score(test_y, preds)\n",
        "print(acc)\n",
        "\n",
        "plot_roc_curve(baseline_model_1, test_vector_x, test_y)\n",
        "plt.show()"
      ],
      "execution_count": null,
      "outputs": [
        {
          "output_type": "stream",
          "text": [
            "0.9403372404753301\n"
          ],
          "name": "stdout"
        },
        {
          "output_type": "display_data",
          "data": {
            "image/png": "[encoded data removed]",
            "text/plain": [
              "<Figure size 432x288 with 1 Axes>"
            ]
          },
          "metadata": {
            "tags": []
          }
        }
      ]
    },
    {
      "cell_type": "markdown",
      "metadata": {
        "id": "duXYmKDDM-WB"
      },
      "source": [
        "***2. Considering only Text***"
      ]
    },
    {
      "cell_type": "code",
      "metadata": {
        "colab": {
          "base_uri": "https://localhost:8080/",
          "height": 296
        },
        "id": "gNiCykCMM7VG",
        "outputId": "a4d0c801-f4e0-4b03-d751-55aa9d0bde72"
      },
      "source": [
        "train_x, test_x, train_y, test_y = get_train_test(full_data, 'text', test_train_split)\n",
        "train_vector, train_vector_x, test_vector_x = get_vectors(train_x, test_x)\n",
        "\n",
        "baseline_model_1 = LogisticRegression(C=2, max_iter=200)\n",
        "baseline_model_1.fit(train_vector_x, train_y)\n",
        "preds= baseline_model_1.predict(test_vector_x)\n",
        "acc = roc_auc_score(test_y, preds)\n",
        "print(acc)\n",
        "\n",
        "plot_roc_curve(baseline_model_1, test_vector_x, test_y)\n",
        "plt.show()"
      ],
      "execution_count": null,
      "outputs": [
        {
          "output_type": "stream",
          "text": [
            "0.9951889830462762\n"
          ],
          "name": "stdout"
        },
        {
          "output_type": "display_data",
          "data": {
            "image/png": "[encoded data removed]",
            "text/plain": [
              "<Figure size 432x288 with 1 Axes>"
            ]
          },
          "metadata": {
            "tags": []
          }
        }
      ]
    },
    {
      "cell_type": "markdown",
      "metadata": {
        "id": "BNDUGIsbNAXe"
      },
      "source": [
        "***3. Considering both***"
      ]
    },
    {
      "cell_type": "code",
      "metadata": {
        "colab": {
          "base_uri": "https://localhost:8080/",
          "height": 296
        },
        "id": "S5GYPF2qNFm1",
        "outputId": "23d8250f-6ded-428a-fd4e-4b1124f88902"
      },
      "source": [
        "train_x, test_x, train_y, test_y = get_train_test(full_data, 'both', test_train_split)\n",
        "train_vector, train_vector_x, test_vector_x = get_vectors(train_x, test_x)\n",
        "\n",
        "baseline_model_1 = LogisticRegression(C=2, max_iter=200)\n",
        "baseline_model_1.fit(train_vector_x, train_y)\n",
        "preds= baseline_model_1.predict(test_vector_x)\n",
        "acc = roc_auc_score(test_y, preds)\n",
        "print(acc)\n",
        "\n",
        "plot_roc_curve(baseline_model_1, test_vector_x, test_y)\n",
        "plt.show()"
      ],
      "execution_count": null,
      "outputs": [
        {
          "output_type": "stream",
          "text": [
            "0.9950485336080739\n"
          ],
          "name": "stdout"
        },
        {
          "output_type": "display_data",
          "data": {
            "image/png": "[encoded data removed]",
            "text/plain": [
              "<Figure size 432x288 with 1 Axes>"
            ]
          },
          "metadata": {
            "tags": []
          }
        }
      ]
    },
    {
      "cell_type": "markdown",
      "metadata": {
        "id": "4RTrRcC7iPN_"
      },
      "source": [
        "## 5.2 Baseline-2: LSTM Based Model"
      ]
    },
    {
      "cell_type": "code",
      "metadata": {
        "id": "uxeAd2Rhx2sT"
      },
      "source": [
        "\"\"\" Params \"\"\"\n",
        "\n",
        "max_vocab = 10000\n",
        "maxlen = 256\n",
        "test_train_split = 0.8\n",
        "val_split = 0.1\n",
        "batch_size=32\n",
        "lr=1e-4"
      ],
      "execution_count": 19,
      "outputs": []
    },
    {
      "cell_type": "code",
      "metadata": {
        "id": "9uULpfC5EwOk"
      },
      "source": [
        "def get_tokeizer(max_vocab, maxlen, train_x, test_x):\n",
        "  tokenizer = Tokenizer(num_words=max_vocab)\n",
        "  tokenizer.fit_on_texts(train_x)\n",
        "\n",
        "  train_x = tokenizer.texts_to_sequences(train_x)\n",
        "  test_x = tokenizer.texts_to_sequences(test_x)\n",
        "\n",
        "  train_x = tf.keras.preprocessing.sequence.pad_sequences(train_x, padding='post', maxlen=maxlen)\n",
        "  test_x = tf.keras.preprocessing.sequence.pad_sequences(test_x, padding='post', maxlen=maxlen)\n",
        "\n",
        "  return train_x, test_x\n"
      ],
      "execution_count": 20,
      "outputs": []
    },
    {
      "cell_type": "code",
      "metadata": {
        "id": "5uqRbwKaEwRW"
      },
      "source": [
        "def get_model(max_vocab, lr):\n",
        "  model = tf.keras.Sequential([\n",
        "      tf.keras.layers.Embedding(max_vocab, 32),\n",
        "      tf.keras.layers.Bidirectional(tf.keras.layers.LSTM(64)), #return_sequences=True\n",
        "      tf.keras.layers.Dense(64, activation='relu'),\n",
        "      tf.keras.layers.Dropout(0.5),\n",
        "      tf.keras.layers.Dense(1)\n",
        "  ])\n",
        "\n",
        "  model.compile(loss=tf.keras.losses.BinaryCrossentropy(from_logits=True),\n",
        "                optimizer=tf.keras.optimizers.Adam(lr),\n",
        "                metrics=['accuracy'])\n",
        "  \n",
        "  return model\n",
        "\n",
        "def plot_metrics(history):\n",
        "\n",
        "  \"\"\" Plotting model Loss and Accuracy Curves\"\"\"\n",
        "\n",
        "  hist_dict = history.history\n",
        "\n",
        "  acc = hist_dict['accuracy']\n",
        "  val_acc = hist_dict['val_accuracy']\n",
        "  loss = hist_dict['loss']\n",
        "  val_loss = hist_dict['val_loss']\n",
        "  epochs = history.epoch\n",
        "\n",
        "  plt.figure()\n",
        "  plt.plot(epochs, loss, 'r', label='Train loss')\n",
        "  plt.plot(epochs, val_loss, 'b', label='Validation loss')\n",
        "  plt.title('Training and validation loss')\n",
        "  plt.xlabel('Epochs')\n",
        "  plt.ylabel('Loss')\n",
        "  plt.legend()\n",
        "  plt.show()\n",
        "\n",
        "  plt.figure()\n",
        "  plt.plot(epochs, acc, 'g', label='Train accuracy')\n",
        "  plt.plot(epochs, val_acc, 'b', label='Validation accuracy')\n",
        "  plt.title('Training and validation accuracy')\n",
        "  plt.xlabel('Epochs')\n",
        "  plt.ylabel('Accuracy')\n",
        "  plt.legend()\n",
        "  plt.ylim((0.5,1))\n",
        "  plt.show()\n",
        "\n",
        "def plot_auc(test_y, output):\n",
        "\n",
        "  \"\"\" Plotting AUC curve \"\"\"\n",
        "\n",
        "  ns_probs = [0 for _ in range(len(output))]\n",
        "\n",
        "  lr_fpr, lr_tpr, _ = roc_curve(y_true=test_y, y_score=output)\n",
        "  ns_fpr, ns_tpr, _ = roc_curve(y_true=test_y, y_score=ns_probs)\n",
        "\n",
        "  plt.plot(ns_fpr, ns_tpr, linestyle='--', label='No Skill')\n",
        "  plt.plot(lr_fpr, lr_tpr, marker='.', label='Baseline2')\n",
        "  plt.xlabel('False Positive Rate')\n",
        "  plt.ylabel('True Positive Rate')\n",
        "  plt.legend()\n",
        "  plt.show()\n",
        "\n",
        "def plot_confusion_matrix(test_y, output):\n",
        "\n",
        "  \"\"\" Plotting confusion matrix \"\"\"\n",
        "\n",
        "  prediction = []\n",
        "\n",
        "  for i in output:\n",
        "    if i>=0.5:\n",
        "      prediction.append(1)\n",
        "    else:\n",
        "      prediction.append(0)\n",
        "\n",
        "  matrix = confusion_matrix(prediction, test_y)\n",
        "  plt.figure()\n",
        "  ax= plt.subplot()\n",
        "  sns.heatmap(matrix, fmt = 'd', annot=True, ax = ax)\n",
        "\n",
        "  ax.set_xlabel('Predicted Labels')\n",
        "  ax.set_ylabel('True Labels')\n",
        "  ax.set_title('Confusion Matrix') \n",
        "  ax.xaxis.set_ticklabels([0,1])\n",
        "  ax.yaxis.set_ticklabels([0,1])"
      ],
      "execution_count": 23,
      "outputs": []
    },
    {
      "cell_type": "markdown",
      "metadata": {
        "id": "7qxGCiXuBlAw"
      },
      "source": [
        "***1. Considering Title as feature***"
      ]
    },
    {
      "cell_type": "code",
      "metadata": {
        "id": "kK3f4QijEwTx",
        "colab": {
          "base_uri": "https://localhost:8080/"
        },
        "outputId": "933ee192-cc7b-4e3d-8fa9-a97c80186b8b"
      },
      "source": [
        "train_x, test_x, train_y, test_y = get_train_test(full_data, 'title', test_train_split)\n",
        "train_x, test_x = get_tokeizer(max_vocab, maxlen, train_x, test_x)\n",
        "early_stopping = tf.keras.callbacks.EarlyStopping(monitor='val_loss', patience=2, restore_best_weights=True)\n",
        "\n",
        "lstm_title = get_model(max_vocab, lr)\n",
        "history = lstm_title.fit(train_x, train_y, epochs=7,validation_split=val_split, batch_size=batch_size, shuffle=True, callbacks=[early_stopping, WandbCallback()] ,verbose=1)"
      ],
      "execution_count": 24,
      "outputs": [
        {
          "output_type": "stream",
          "text": [
            "Epoch 1/7\n",
            "996/996 [==============================] - 28s 24ms/step - loss: 0.5815 - accuracy: 0.6223 - val_loss: 0.1990 - val_accuracy: 0.9297\n",
            "Epoch 2/7\n",
            "996/996 [==============================] - 22s 23ms/step - loss: 0.1818 - accuracy: 0.9324 - val_loss: 0.1519 - val_accuracy: 0.9458\n",
            "Epoch 3/7\n",
            "996/996 [==============================] - 23s 23ms/step - loss: 0.1218 - accuracy: 0.9546 - val_loss: 0.1343 - val_accuracy: 0.9387\n",
            "Epoch 4/7\n",
            "996/996 [==============================] - 23s 23ms/step - loss: 0.0948 - accuracy: 0.9660 - val_loss: 0.1261 - val_accuracy: 0.9517\n",
            "Epoch 5/7\n",
            "996/996 [==============================] - 23s 23ms/step - loss: 0.0686 - accuracy: 0.9753 - val_loss: 0.1221 - val_accuracy: 0.9514\n",
            "Epoch 6/7\n",
            "996/996 [==============================] - 23s 23ms/step - loss: 0.0592 - accuracy: 0.9807 - val_loss: 0.1277 - val_accuracy: 0.9503\n",
            "Epoch 7/7\n",
            "996/996 [==============================] - 23s 23ms/step - loss: 0.0512 - accuracy: 0.9823 - val_loss: 0.1341 - val_accuracy: 0.9529\n"
          ],
          "name": "stdout"
        }
      ]
    },
    {
      "cell_type": "code",
      "metadata": {
        "id": "Xheq-Xms-8eF",
        "colab": {
          "base_uri": "https://localhost:8080/"
        },
        "outputId": "ce34fc77-1ec9-48ff-e728-a5d2dc30eba0"
      },
      "source": [
        "lstm_title.evaluate(test_x, test_y)\n",
        "output = lstm_title.predict(test_x)"
      ],
      "execution_count": 25,
      "outputs": [
        {
          "output_type": "stream",
          "text": [
            "277/277 [==============================] - 2s 8ms/step - loss: 0.1310 - accuracy: 0.9518\n"
          ],
          "name": "stdout"
        }
      ]
    },
    {
      "cell_type": "code",
      "metadata": {
        "colab": {
          "base_uri": "https://localhost:8080/",
          "height": 1000
        },
        "id": "iloEoyDrB1yx",
        "outputId": "fd1e3ab7-6419-4791-d66b-510ca34bcd48"
      },
      "source": [
        "plot_auc(test_y, output)\n",
        "plot_confusion_matrix(test_y, output)\n",
        "plot_metrics(history)"
      ],
      "execution_count": 28,
      "outputs": [
        {
          "output_type": "display_data",
          "data": {
            "image/png": "[encoded data removed]",
            "text/plain": [
              "<Figure size 432x288 with 1 Axes>"
            ]
          },
          "metadata": {
            "tags": [],
            "needs_background": "light"
          }
        },
        {
          "output_type": "display_data",
          "data": {
            "image/png": "[encoded data removed]",
            "text/plain": [
              "<Figure size 432x288 with 2 Axes>"
            ]
          },
          "metadata": {
            "tags": [],
            "needs_background": "light"
          }
        },
        {
          "output_type": "display_data",
          "data": {
            "image/png": "[encoded data removed]",
            "text/plain": [
              "<Figure size 432x288 with 1 Axes>"
            ]
          },
          "metadata": {
            "tags": [],
            "needs_background": "light"
          }
        },
        {
          "output_type": "display_data",
          "data": {
            "image/png": "[encoded data removed]",
            "text/plain": [
              "<Figure size 432x288 with 1 Axes>"
            ]
          },
          "metadata": {
            "tags": [],
            "needs_background": "light"
          }
        }
      ]
    },
    {
      "cell_type": "markdown",
      "metadata": {
        "id": "RQGgEFPjCMI_"
      },
      "source": [
        "**2. Considering Text as only feature**"
      ]
    },
    {
      "cell_type": "code",
      "metadata": {
        "colab": {
          "base_uri": "https://localhost:8080/"
        },
        "id": "NPyfwWxDCQWW",
        "outputId": "73ee6f61-fa07-4013-9149-f142b90e4d58"
      },
      "source": [
        "train_x, test_x, train_y, test_y = get_train_test(full_data, 'text', test_train_split)\n",
        "train_x, test_x = get_tokeizer(max_vocab, maxlen, train_x, test_x)\n",
        "early_stopping = tf.keras.callbacks.EarlyStopping(monitor='val_loss', patience=2, restore_best_weights=True)\n",
        "\n",
        "lstm_text = get_model(max_vocab, lr)\n",
        "history = lstm_text.fit(train_x, train_y, epochs=7,validation_split=val_split, batch_size=batch_size, shuffle=True, callbacks=[early_stopping, WandbCallback()] ,verbose=1)"
      ],
      "execution_count": 29,
      "outputs": [
        {
          "output_type": "stream",
          "text": [
            "Epoch 1/7\n",
            "996/996 [==============================] - 27s 24ms/step - loss: 0.4793 - accuracy: 0.6856 - val_loss: 0.0714 - val_accuracy: 0.9800\n",
            "Epoch 2/7\n",
            "996/996 [==============================] - 24s 24ms/step - loss: 0.0507 - accuracy: 0.9878 - val_loss: 0.0580 - val_accuracy: 0.9845\n",
            "Epoch 3/7\n",
            "996/996 [==============================] - 23s 23ms/step - loss: 0.0240 - accuracy: 0.9945 - val_loss: 0.0309 - val_accuracy: 0.9896\n",
            "Epoch 4/7\n",
            "996/996 [==============================] - 23s 23ms/step - loss: 0.0106 - accuracy: 0.9978 - val_loss: 0.0307 - val_accuracy: 0.9924\n",
            "Epoch 5/7\n",
            "996/996 [==============================] - 23s 24ms/step - loss: 0.0071 - accuracy: 0.9990 - val_loss: 0.0310 - val_accuracy: 0.9918\n",
            "Epoch 6/7\n",
            "996/996 [==============================] - 23s 23ms/step - loss: 0.0048 - accuracy: 0.9991 - val_loss: 0.0374 - val_accuracy: 0.9921\n"
          ],
          "name": "stdout"
        }
      ]
    },
    {
      "cell_type": "code",
      "metadata": {
        "colab": {
          "base_uri": "https://localhost:8080/"
        },
        "id": "Liv-tsgSC_Ti",
        "outputId": "c506e63f-0c8b-4bef-e821-4ed6da50d343"
      },
      "source": [
        "lstm_text.evaluate(test_x, test_y)\n",
        "output = lstm_text.predict(test_x)"
      ],
      "execution_count": 30,
      "outputs": [
        {
          "output_type": "stream",
          "text": [
            "277/277 [==============================] - 3s 10ms/step - loss: 0.0260 - accuracy: 0.9923\n"
          ],
          "name": "stdout"
        }
      ]
    },
    {
      "cell_type": "code",
      "metadata": {
        "colab": {
          "base_uri": "https://localhost:8080/",
          "height": 1000
        },
        "id": "582uFt5gDLxl",
        "outputId": "ac2547a4-2876-4505-c22e-99a5223914f1"
      },
      "source": [
        "plot_auc(test_y, output)\n",
        "plot_confusion_matrix(test_y, output)\n",
        "plot_metrics(history)"
      ],
      "execution_count": 31,
      "outputs": [
        {
          "output_type": "display_data",
          "data": {
            "image/png": "[encoded data removed]",
            "text/plain": [
              "<Figure size 432x288 with 1 Axes>"
            ]
          },
          "metadata": {
            "tags": [],
            "needs_background": "light"
          }
        },
        {
          "output_type": "display_data",
          "data": {
            "image/png": "[encoded data removed]",
            "text/plain": [
              "<Figure size 432x288 with 2 Axes>"
            ]
          },
          "metadata": {
            "tags": [],
            "needs_background": "light"
          }
        },
        {
          "output_type": "display_data",
          "data": {
            "image/png": "[encoded data removed]",
            "text/plain": [
              "<Figure size 432x288 with 1 Axes>"
            ]
          },
          "metadata": {
            "tags": [],
            "needs_background": "light"
          }
        },
        {
          "output_type": "display_data",
          "data": {
            "image/png": "[encoded data removed]",
            "text/plain": [
              "<Figure size 432x288 with 1 Axes>"
            ]
          },
          "metadata": {
            "tags": [],
            "needs_background": "light"
          }
        }
      ]
    },
    {
      "cell_type": "markdown",
      "metadata": {
        "id": "EHEnE-lVCQq2"
      },
      "source": [
        "**3. Considering Title+Text as feature**"
      ]
    },
    {
      "cell_type": "code",
      "metadata": {
        "colab": {
          "base_uri": "https://localhost:8080/"
        },
        "id": "FfBAMNDICXAW",
        "outputId": "1265e185-338f-45d3-b61f-ac0f299fabb6"
      },
      "source": [
        "train_x, test_x, train_y, test_y = get_train_test(full_data, 'both', test_train_split)\n",
        "train_x, test_x = get_tokeizer(max_vocab, maxlen, train_x, test_x)\n",
        "early_stopping = tf.keras.callbacks.EarlyStopping(monitor='val_loss', patience=2, restore_best_weights=True)\n",
        "\n",
        "lstm_combined = get_model(max_vocab, lr)\n",
        "history = lstm_combined.fit(train_x, train_y, epochs=7,validation_split=val_split, batch_size=batch_size, shuffle=True, callbacks=[early_stopping, WandbCallback()] ,verbose=1)"
      ],
      "execution_count": 32,
      "outputs": [
        {
          "output_type": "stream",
          "text": [
            "Epoch 1/7\n",
            "996/996 [==============================] - 27s 24ms/step - loss: 0.4326 - accuracy: 0.7241 - val_loss: 0.0697 - val_accuracy: 0.9839\n",
            "Epoch 2/7\n",
            "996/996 [==============================] - 23s 23ms/step - loss: 0.0405 - accuracy: 0.9903 - val_loss: 0.0461 - val_accuracy: 0.9867\n",
            "Epoch 3/7\n",
            "996/996 [==============================] - 23s 23ms/step - loss: 0.0184 - accuracy: 0.9961 - val_loss: 0.0468 - val_accuracy: 0.9884\n",
            "Epoch 4/7\n",
            "996/996 [==============================] - 23s 23ms/step - loss: 0.0090 - accuracy: 0.9982 - val_loss: 0.0310 - val_accuracy: 0.9910\n",
            "Epoch 5/7\n",
            "996/996 [==============================] - 23s 23ms/step - loss: 0.0046 - accuracy: 0.9993 - val_loss: 0.0407 - val_accuracy: 0.9912\n",
            "Epoch 6/7\n",
            "996/996 [==============================] - 24s 24ms/step - loss: 0.0035 - accuracy: 0.9993 - val_loss: 0.0429 - val_accuracy: 0.9918\n"
          ],
          "name": "stdout"
        }
      ]
    },
    {
      "cell_type": "code",
      "metadata": {
        "colab": {
          "base_uri": "https://localhost:8080/"
        },
        "id": "3Jv2Gy4NDC5X",
        "outputId": "a332f411-29d4-4149-edd6-f8007ea7589c"
      },
      "source": [
        "lstm_combined.evaluate(test_x, test_y)\n",
        "output = lstm_combined.predict(test_x)"
      ],
      "execution_count": 33,
      "outputs": [
        {
          "output_type": "stream",
          "text": [
            "277/277 [==============================] - 2s 9ms/step - loss: 0.0245 - accuracy: 0.9922\n"
          ],
          "name": "stdout"
        }
      ]
    },
    {
      "cell_type": "code",
      "metadata": {
        "colab": {
          "base_uri": "https://localhost:8080/",
          "height": 1000
        },
        "id": "FyrZJOlEDMj_",
        "outputId": "ad57f8ed-6651-4684-c0d5-74ac346e98ef"
      },
      "source": [
        "plot_auc(test_y, output)\n",
        "plot_confusion_matrix(test_y, output)\n",
        "plot_metrics(history)"
      ],
      "execution_count": 34,
      "outputs": [
        {
          "output_type": "display_data",
          "data": {
            "image/png": "[encoded data removed]",
            "text/plain": [
              "<Figure size 432x288 with 1 Axes>"
            ]
          },
          "metadata": {
            "tags": [],
            "needs_background": "light"
          }
        },
        {
          "output_type": "display_data",
          "data": {
            "image/png": "[encoded data removed]",
            "text/plain": [
              "<Figure size 432x288 with 2 Axes>"
            ]
          },
          "metadata": {
            "tags": [],
            "needs_background": "light"
          }
        },
        {
          "output_type": "display_data",
          "data": {
            "image/png": "[encoded data removed]",
            "text/plain": [
              "<Figure size 432x288 with 1 Axes>"
            ]
          },
          "metadata": {
            "tags": [],
            "needs_background": "light"
          }
        },
        {
          "output_type": "display_data",
          "data": {
            "image/png": "[encoded data removed]",
            "text/plain": [
              "<Figure size 432x288 with 1 Axes>"
            ]
          },
          "metadata": {
            "tags": [],
            "needs_background": "light"
          }
        }
      ]
    },
    {
      "cell_type": "markdown",
      "metadata": {
        "id": "yCyCNz6bJrcS"
      },
      "source": [
        "## 6. Post-Analysis\n",
        "\n",
        "For all the models, we are getting astonishingly high accuracies. Let's have a look at any possible reasons for this. "
      ]
    },
    {
      "cell_type": "markdown",
      "metadata": {
        "id": "t_YguLzGfJv_"
      },
      "source": [
        "## 6.1 Checking for Duplicate Rows\n",
        "\n",
        "As seen there are a lot of duplicate title and text in true and fake data. The performance of the LSTM (title + text) model decreased marginally. Hence, this was one of the reasons for high performance of the model.\n"
      ]
    },
    {
      "cell_type": "code",
      "metadata": {
        "id": "pF6nvy0a3ryC"
      },
      "source": [
        "full_data = pd.read_csv('/content/full_data.csv')\n",
        "full_data['combined'] = full_data['title'] + \" \" + full_data['text'] \n",
        "full_data = full_data.dropna()"
      ],
      "execution_count": 37,
      "outputs": []
    },
    {
      "cell_type": "code",
      "metadata": {
        "colab": {
          "base_uri": "https://localhost:8080/"
        },
        "id": "eNcICQykjI8E",
        "outputId": "d4b5dd85-8c7a-4ded-d59f-21d619eb647b"
      },
      "source": [
        "true_data = full_data[full_data['label'] == 1]\n",
        "fake_data = full_data[full_data['label'] == 0]\n",
        "\n",
        "# duplicated title - 591\n",
        "num_true_title_duplicates = true_data.duplicated(subset=['title']).sum()\n",
        "\n",
        "# duplicated text - 225\n",
        "num_true_text_duplicates = true_data.duplicated(subset=['text']).sum()\n",
        "\n",
        "# duplicated title - 5578\n",
        "num_fake_title_duplicates = fake_data.duplicated(subset=['title']).sum()\n",
        "\n",
        "# duplicated text - 6026\n",
        "num_fake_text_duplicates = fake_data.duplicated(subset=['text']).sum()\n",
        "\n",
        "## title common to both true and fake\n",
        "common_title = true_data[true_data['title'].isin(fake_data['title'])].shape\n",
        "\n",
        "# text common to both true and fake\n",
        "common_text = true_data[true_data['text'].isin(fake_data['text'])].shape\n",
        "\n",
        "print(num_true_title_duplicates)\n",
        "print(num_true_text_duplicates)\n",
        "print(num_fake_title_duplicates)\n",
        "print(num_fake_text_duplicates)\n",
        "print(common_title)\n",
        "print(common_text)"
      ],
      "execution_count": 42,
      "outputs": [
        {
          "output_type": "stream",
          "text": [
            "0\n",
            "0\n",
            "0\n",
            "0\n",
            "(0, 8)\n",
            "(0, 8)\n"
          ],
          "name": "stdout"
        }
      ]
    },
    {
      "cell_type": "code",
      "metadata": {
        "id": "5JWWA7qhgTZl"
      },
      "source": [
        "# Performance After\n",
        "full_data = full_data.drop_duplicates(['text'])\n",
        "full_data = full_data.drop_duplicates(['title'])"
      ],
      "execution_count": 39,
      "outputs": []
    },
    {
      "cell_type": "code",
      "metadata": {
        "colab": {
          "base_uri": "https://localhost:8080/"
        },
        "id": "0RGXqyvOFHzj",
        "outputId": "35dd1ffb-3175-4902-de87-21fa4480610e"
      },
      "source": [
        "train_x, test_x, train_y, test_y = get_train_test(full_data, 'both', test_train_split)\n",
        "train_x, test_x = get_tokeizer(max_vocab, maxlen, train_x, test_x)\n",
        "early_stopping = tf.keras.callbacks.EarlyStopping(monitor='val_loss', patience=2, restore_best_weights=True)\n",
        "\n",
        "lstm_combined_without_duplicates = get_model(max_vocab, lr)\n",
        "history = lstm_combined_without_duplicates.fit(train_x, train_y, epochs=7,validation_split=val_split, batch_size=batch_size, shuffle=True, callbacks=[early_stopping, WandbCallback()] ,verbose=1)"
      ],
      "execution_count": 40,
      "outputs": [
        {
          "output_type": "stream",
          "text": [
            "Epoch 1/7\n",
            "861/861 [==============================] - 24s 24ms/step - loss: 0.4846 - accuracy: 0.6697 - val_loss: 0.0666 - val_accuracy: 0.9788\n",
            "Epoch 2/7\n",
            "861/861 [==============================] - 20s 23ms/step - loss: 0.0593 - accuracy: 0.9848 - val_loss: 0.0358 - val_accuracy: 0.9882\n",
            "Epoch 3/7\n",
            "861/861 [==============================] - 20s 23ms/step - loss: 0.0273 - accuracy: 0.9939 - val_loss: 0.0291 - val_accuracy: 0.9882\n",
            "Epoch 4/7\n",
            "861/861 [==============================] - 20s 23ms/step - loss: 0.0146 - accuracy: 0.9973 - val_loss: 0.0322 - val_accuracy: 0.9876\n",
            "Epoch 5/7\n",
            "861/861 [==============================] - 20s 23ms/step - loss: 0.0099 - accuracy: 0.9983 - val_loss: 0.0372 - val_accuracy: 0.9899\n"
          ],
          "name": "stdout"
        }
      ]
    },
    {
      "cell_type": "code",
      "metadata": {
        "colab": {
          "base_uri": "https://localhost:8080/"
        },
        "id": "Ar_VQM5eFRL3",
        "outputId": "6861e511-4ef1-48dd-9577-5353343f4288"
      },
      "source": [
        "lstm_combined_without_duplicates.evaluate(test_x, test_y)\n",
        "output = lstm_combined_without_duplicates.predict(test_x)"
      ],
      "execution_count": 43,
      "outputs": [
        {
          "output_type": "stream",
          "text": [
            "240/240 [==============================] - 2s 10ms/step - loss: 0.0311 - accuracy: 0.9893\n"
          ],
          "name": "stdout"
        }
      ]
    },
    {
      "cell_type": "code",
      "metadata": {
        "id": "e5sCQ4Gq3NGk",
        "colab": {
          "base_uri": "https://localhost:8080/",
          "height": 1000
        },
        "outputId": "50da7e70-3a98-4d74-d2ce-c8c3424a4828"
      },
      "source": [
        "plot_auc(test_y, output)\n",
        "plot_confusion_matrix(test_y, output)\n",
        "plot_metrics(history)"
      ],
      "execution_count": 44,
      "outputs": [
        {
          "output_type": "display_data",
          "data": {
            "image/png": "[encoded data removed]",
            "text/plain": [
              "<Figure size 432x288 with 1 Axes>"
            ]
          },
          "metadata": {
            "tags": [],
            "needs_background": "light"
          }
        },
        {
          "output_type": "display_data",
          "data": {
            "image/png": "[encoded data removed]",
            "text/plain": [
              "<Figure size 432x288 with 2 Axes>"
            ]
          },
          "metadata": {
            "tags": [],
            "needs_background": "light"
          }
        },
        {
          "output_type": "display_data",
          "data": {
            "image/png": "[encoded data removed]",
            "text/plain": [
              "<Figure size 432x288 with 1 Axes>"
            ]
          },
          "metadata": {
            "tags": [],
            "needs_background": "light"
          }
        },
        {
          "output_type": "display_data",
          "data": {
            "image/png": "[encoded data removed]",
            "text/plain": [
              "<Figure size 432x288 with 1 Axes>"
            ]
          },
          "metadata": {
            "tags": [],
            "needs_background": "light"
          }
        }
      ]
    },
    {
      "cell_type": "code",
      "metadata": {
        "id": "naaP4XybFWgx"
      },
      "source": [
        ""
      ],
      "execution_count": null,
      "outputs": []
    }
  ]
}