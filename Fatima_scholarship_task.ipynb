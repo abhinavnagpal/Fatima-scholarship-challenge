{
  "nbformat": 4,
  "nbformat_minor": 0,
  "metadata": {
    "colab": {
      "name": "Fatima scholarship task.ipynb",
      "provenance": [],
      "collapsed_sections": []
    },
    "kernelspec": {
      "name": "python3",
      "display_name": "Python 3"
    },
    "accelerator": "GPU"
  },
  "cells": [
    {
      "cell_type": "markdown",
      "metadata": {
        "id": "_zVrjAk4q6Ji"
      },
      "source": [
        "**Fake news classifier**: Train a text classification model to detect fake news articles!\n",
        "\n",
        "* Download the dataset here: https://www.kaggle.com/clmentbisaillon/fake-and-real-news-dataset\n",
        "* Develop an NLP model using word embeddings, and (if appropriate) apply additional feature engineering\n",
        "* Train your model on the dataset, and generate an AUC curve of your model on the test set of your choice. \n",
        "* Using your model, rank the top 10 words associated with real news articles and fake news articles\n",
        "* *Answer the following question*: what is 1 idea that you have to improve your model's performance on this dataset (you don't have to implement it)"
      ]
    },
    {
      "cell_type": "markdown",
      "metadata": {
        "id": "WumnKshwsEuG"
      },
      "source": [
        "# 1. Import Libraries"
      ]
    },
    {
      "cell_type": "code",
      "metadata": {
        "id": "VvrIZS8mHAmO"
      },
      "source": [
        "!pip3 install emoji lime wandb"
      ],
      "execution_count": null,
      "outputs": []
    },
    {
      "cell_type": "code",
      "metadata": {
        "id": "D1WQGpK1sD0f"
      },
      "source": [
        "\"\"\" Importing Libraries \"\"\"\n",
        "\n",
        "import numpy as np\n",
        "import pandas as pd\n",
        "import matplotlib.pyplot as plt\n",
        "import os\n",
        "import string\n",
        "import re\n",
        "import pickle\n",
        "import emoji \n",
        "import unicodedata\n",
        "import wandb\n",
        "from wandb.keras import WandbCallback\n",
        "wandb.init(config={\"hyper\": \"parameter\"})\n",
        "from tqdm import tqdm \n",
        "import nltk\n",
        "import tensorflow as tf \n",
        "from tensorflow.keras.preprocessing.text import Tokenizer\n",
        "\n",
        "from sklearn.metrics import accuracy_score\n",
        "from sklearn.model_selection import train_test_split\n",
        "from sklearn.metrics import accuracy_score, confusion_matrix, precision_score, recall_score, plot_roc_curve\n",
        "from sklearn.feature_extraction.text import CountVectorizer\n",
        "from sklearn.linear_model import LogisticRegression\n",
        "from sklearn.metrics import roc_auc_score\n",
        "import seaborn as sns \n",
        "\n",
        "from sklearn.pipeline import make_pipeline\n",
        "from lime import lime_text\n",
        "from lime.lime_text import LimeTextExplainer\n",
        "import lime.lime_tabular\n",
        "\n",
        "nltk.download('stopwords')\n",
        "from nltk.corpus import stopwords\n",
        "\n",
        "%matplotlib inline"
      ],
      "execution_count": null,
      "outputs": []
    },
    {
      "cell_type": "markdown",
      "metadata": {
        "id": "q94Rv4JLsSCX"
      },
      "source": [
        "# 2. Load Data"
      ]
    },
    {
      "cell_type": "code",
      "metadata": {
        "id": "q3eoBK8DsRG5"
      },
      "source": [
        "\"\"\" Loading data \"\"\"\n",
        "\n",
        "true_data = pd.read_csv(os.getcwd() + '/True.csv')\n",
        "fake_data = pd.read_csv(os.getcwd() + '/Fake.csv')\n",
        "print(true_data.shape, fake_data.shape)\n",
        "print(true_data.columns)"
      ],
      "execution_count": null,
      "outputs": []
    },
    {
      "cell_type": "code",
      "metadata": {
        "id": "G4uDuLZLua2z"
      },
      "source": [
        "true_data['label'] = 1\n",
        "fake_data['label'] = 0\n",
        "\n",
        "full_data = pd.concat([true_data, fake_data])\n",
        "full_data = data.drop(['date'], axis=1)"
      ],
      "execution_count": null,
      "outputs": []
    },
    {
      "cell_type": "markdown",
      "metadata": {
        "id": "IgPp0MKMxAIr"
      },
      "source": [
        "# 3. Preprocessing"
      ]
    },
    {
      "cell_type": "code",
      "metadata": {
        "id": "0F51uR6e54JO"
      },
      "source": [
        "contraction_mapping = {\n",
        "    \"Trump's\" : 'trump is',\"'cause\": 'because',',cause': 'because',';cause': 'because',\"ain't\": 'am not','ain,t': 'am not',\n",
        "    'ain;t': 'am not','ain´t': 'am not','ain’t': 'am not',\"aren't\": 'are not',\n",
        "    'aren,t': 'are not','aren;t': 'are not','aren´t': 'are not','aren’t': 'are not',\"can't\": 'cannot',\"can't've\": 'cannot have','can,t': 'cannot','can,t,ve': 'cannot have',\n",
        "    'can;t': 'cannot','can;t;ve': 'cannot have',\n",
        "    'can´t': 'cannot','can´t´ve': 'cannot have','can’t': 'cannot','can’t’ve': 'cannot have',\n",
        "    \"could've\": 'could have','could,ve': 'could have','could;ve': 'could have',\"couldn't\": 'could not',\"couldn't've\": 'could not have','couldn,t': 'could not','couldn,t,ve': 'could not have','couldn;t': 'could not',\n",
        "    'couldn;t;ve': 'could not have','couldn´t': 'could not',\n",
        "    'couldn´t´ve': 'could not have','couldn’t': 'could not','couldn’t’ve': 'could not have','could´ve': 'could have',\n",
        "    'could’ve': 'could have',\"didn't\": 'did not','didn,t': 'did not','didn;t': 'did not','didn´t': 'did not',\n",
        "    'didn’t': 'did not',\"doesn't\": 'does not','doesn,t': 'does not','doesn;t': 'does not','doesn´t': 'does not',\n",
        "    'doesn’t': 'does not',\"don't\": 'do not',\"Don't\": 'do not','don,t': 'do not','don;t': 'do not','don´t': 'do not',\"They're\":'they are','don’t': 'do not','Don’t': 'do not',\n",
        "    \"hadn't\": 'had not',\"hadn't've\": 'had not have','hadn,t': 'had not','hadn,t,ve': 'had not have','hadn;t': 'had not',\n",
        "    'hadn;t;ve': 'had not have','hadn´t': 'had not','hadn´t´ve': 'had not have','hadn’t': 'had not','hadn’t’ve': 'had not have',\"hasn't\": 'has not','hasn,t': 'has not','hasn;t': 'has not','hasn´t': 'has not','hasn’t': 'has not',\n",
        "    \"haven't\": 'have not','haven,t': 'have not','haven;t': 'have not','haven´t': 'have not','haven’t': 'have not',\"he'd\": 'he would',\n",
        "    \"he'd've\": 'he would have',\"he'll\": 'he will',\n",
        "    \"he's\": 'he is',\"He's\": 'he is','he,d': 'he would','he,d,ve': 'he would have','he,ll': 'he will','he,s': 'he is','he;d': 'he would',\n",
        "    'he;d;ve': 'he would have','he;ll': 'he will','he;s': 'he is','he´d': 'he would','he´d´ve': 'he would have','he´ll': 'he will',\n",
        "    'he´s': 'he is','he’d': 'he would','he’d’ve': 'he would have','he’ll': 'he will','he’s': 'he is',\"how'd\": 'how did',\"how'll\": 'how will',\n",
        "    \"how's\": 'how is','how,d': 'how did','how,ll': 'how will','how,s': 'how is','how;d': 'how did','how;ll': 'how will',\n",
        "    'how;s': 'how is','how´d': 'how did','how´ll': 'how will','how´s': 'how is','how’d': 'how did','how’ll': 'how will',\n",
        "    'how’s': 'how is',\"i'd\": 'i would',\"I'd\": 'i would',\"i'll\": 'i will',\"I'll\": 'i will',\"i'm\": 'i am',\"I'm\": 'i am',\"i've\": 'i have',\"I've\": 'i have','i,d': 'i would','i,ll': 'i will',\n",
        "    'i,m': 'i am','i,ve': 'i have','i;d': 'i would','i;ll': 'i will','i;m': 'i am','i;ve': 'i have',\"isn't\": 'is not',\n",
        "    'isn,t': 'is not','isn;t': 'is not','isn´t': 'is not','isn’t': 'is not',\"it'd\": 'it would',\"it'll\": 'it will',\"It's\":'it is',\n",
        "    \"it's\": 'it is','it,d': 'it would','it,ll': 'it will','it,s': 'it is','it;d': 'it would','it;ll': 'it will','it;s': 'it is','it´d': 'it would','it´ll': 'it will','it´s': 'it is',\n",
        "    'it’d': 'it would','it’ll': 'it will','it’s': 'it is',\"It's\":'it is',\n",
        "    'i´d': 'i would','i´ll': 'i will','i´m': 'i am','i´ve': 'i have','i’d': 'i would','i’ll': 'i will','i’m': 'i am','I’m': 'i am',\n",
        "    'i’ve': 'i have','I’ve': 'i have',\"let's\": 'let us','let,s': 'let us','let;s': 'let us','let´s': 'let us',\n",
        "    'let’s': 'let us',\"ma'am\": 'madam','ma,am': 'madam','ma;am': 'madam',\"mayn't\": 'may not','mayn,t': 'may not','mayn;t': 'may not',\n",
        "    'mayn´t': 'may not','mayn’t': 'may not','ma´am': 'madam','ma’am': 'madam',\"might've\": 'might have','might,ve': 'might have','might;ve': 'might have',\"mightn't\": 'might not','mightn,t': 'might not','mightn;t': 'might not','mightn´t': 'might not',\n",
        "    'mightn’t': 'might not','might´ve': 'might have','might’ve': 'might have',\"must've\": 'must have','must,ve': 'must have','must;ve': 'must have',\n",
        "    \"mustn't\": 'must not','mustn,t': 'must not','mustn;t': 'must not','mustn´t': 'must not','mustn’t': 'must not','must´ve': 'must have',\n",
        "    'must’ve': 'must have',\"needn't\": 'need not','needn,t': 'need not','needn;t': 'need not','needn´t': 'need not','needn’t': 'need not',\"oughtn't\": 'ought not','oughtn,t': 'ought not','oughtn;t': 'ought not',\n",
        "    'oughtn´t': 'ought not','oughtn’t': 'ought not',\"sha'n't\": 'shall not','sha,n,t': 'shall not','sha;n;t': 'shall not',\"shan't\": 'shall not',\n",
        "    'shan,t': 'shall not','shan;t': 'shall not','shan´t': 'shall not','shan’t': 'shall not','sha´n´t': 'shall not','sha’n’t': 'shall not',\n",
        "    \"she'd\": 'she would',\"she'll\": 'she will',\"she's\": 'she is','she,d': 'she would','she,ll': 'she will',\n",
        "    'she,s': 'she is','she;d': 'she would','she;ll': 'she will','she;s': 'she is','she´d': 'she would','she´ll': 'she will',\n",
        "    'she´s': 'she is','she’d': 'she would','she’ll': 'she will','she’s': 'she is',\"should've\": 'should have','should,ve': 'should have','should;ve': 'should have',\n",
        "    \"shouldn't\": 'should not','shouldn,t': 'should not','shouldn;t': 'should not','shouldn´t': 'should not','shouldn’t': 'should not','should´ve': 'should have',\n",
        "    'should’ve': 'should have',\"that'd\": 'that would',\"that's\": 'that is','that,d': 'that would','that,s': 'that is','that;d': 'that would',\n",
        "    'that;s': 'that is','that´d': 'that would','that´s': 'that is','that’d': 'that would','that’s': 'that is',\"there'd\": 'there had',\n",
        "    \"there's\": 'there is','there,d': 'there had','there,s': 'there is','there;d': 'there had','there;s': 'there is',\n",
        "    'there´d': 'there had','there´s': 'there is','there’d': 'there had','there’s': 'there is',\n",
        "    \"they'd\": 'they would',\"they'll\": 'they will',\"they're\": 'they are',\"they've\": 'they have',\n",
        "    'they,d': 'they would','they,ll': 'they will','they,re': 'they are','they,ve': 'they have','they;d': 'they would','they;ll': 'they will','they;re': 'they are',\n",
        "    'they;ve': 'they have','they´d': 'they would','they´ll': 'they will','they´re': 'they are','they´ve': 'they have','they’d': 'they would','they’ll': 'they will',\n",
        "    'they’re': 'they are','they’ve': 'they have',\"wasn't\": 'was not','wasn,t': 'was not','wasn;t': 'was not','wasn´t': 'was not',\n",
        "    'wasn’t': 'was not',\"we'd\": 'we would',\"we'll\": 'we will',\"we're\": 'we are',\"we've\": 'we have',\"We've\": 'we have','we,d': 'we would','we,ll': 'we will',\n",
        "    'we,re': 'we are','we,ve': 'we have','we;d': 'we would','we;ll': 'we will','we;re': 'we are','we;ve': 'we have',\n",
        "    \"weren't\": 'were not','weren,t': 'were not','weren;t': 'were not','weren´t': 'were not','weren’t': 'were not','we´d': 'we would','we´ll': 'we will',\n",
        "    'we´re': 'we are','we´ve': 'we have','we’d': 'we would','we’ll': 'we will','we’re': 'we are','we’ve': 'we have','We’ve': 'we have',\"what'll\": 'what will',\"what're\": 'what are',\"what's\": 'what is',\n",
        "    \"what've\": 'what have','what,ll': 'what will','what,re': 'what are','what,s': 'what is','what,ve': 'what have','what;ll': 'what will','what;re': 'what are',\n",
        "    'what;s': 'what is','what;ve': 'what have','what´ll': 'what will',\n",
        "    'what´re': 'what are','what´s': 'what is','what´ve': 'what have','what’ll': 'what will','what’re': 'what are','what’s': 'what is',\n",
        "    'what’ve': 'what have',\"where'd\": 'where did',\"where's\": 'where is','where,d': 'where did','where,s': 'where is','where;d': 'where did',\n",
        "    'where;s': 'where is','where´d': 'where did','where´s': 'where is','where’d': 'where did','where’s': 'where is',\n",
        "    \"who'll\": 'who will',\"who's\": 'who is','who,ll': 'who will','who,s': 'who is','who;ll': 'who will','who;s': 'who is',\n",
        "    'who´ll': 'who will','who´s': 'who is','who’ll': 'who will','who’s': 'who is',\"won't\": 'will not','won,t': 'will not','won;t': 'will not',\n",
        "    'won´t': 'will not','won’t': 'will not',\"wouldn't\": 'would not','wouldn,t': 'would not','wouldn;t': 'would not','wouldn´t': 'would not',\n",
        "    'wouldn’t': 'would not',\"you'd\": 'you would',\"you'll\": 'you will',\"you're\": 'you are','you,d': 'you would','you,ll': 'you will',\n",
        "    'you,re': 'you are','you;d': 'you would','you;ll': 'you will',\n",
        "    'you;re': 'you are','you´d': 'you would','you´ll': 'you will','you´re': 'you are','you’d': 'you would','you’ll': 'you will','you’re': 'you are',\n",
        "    '´cause': 'because','’cause': 'because',\"you've\": \"you have\",\"could'nt\": 'could not',\n",
        "    \"havn't\": 'have not',\"here’s\": \"here is\",'i\"\"m': 'i am',\"i'am\": 'i am',\"i'l\": \"i will\",\"i'v\": 'i have',\"wan't\": 'want',\"was'nt\": \"was not\",\"who'd\": \"who would\",\n",
        "    \"who're\": \"who are\",\"who've\": \"who have\",\"why'd\": \"why would\",\"would've\": \"would have\",\"y'all\": \"you all\",\"y'know\": \"you know\",\"you.i\": \"you i\",\n",
        "    \"your'e\": \"you are\",\"arn't\": \"are not\",\"agains't\": \"against\",\"c'mon\": \"common\",\"doens't\": \"does not\",'don\"\"t': \"do not\",\"dosen't\": \"does not\",\n",
        "    \"dosn't\": \"does not\",\"shoudn't\": \"should not\",\"that'll\": \"that will\",\"there'll\": \"there will\",\"there're\": \"there are\",\n",
        "    \"this'll\": \"this all\",\"u're\": \"you are\", \"ya'll\": \"you all\",\"you'r\": \"you are\",\"you’ve\": \"you have\",\"d'int\": \"did not\",\"did'nt\": \"did not\",\"din't\": \"did not\",\"dont't\": \"do not\",\"gov't\": \"government\",\n",
        "    \"i'ma\": \"i am\",\"is'nt\": \"is not\",\"‘I\":'I',\n",
        "    'ᴀɴᴅ':'and','ᴛʜᴇ':'the','ʜᴏᴍᴇ':'home','ᴜᴘ':'up','ʙʏ':'by','ᴀᴛ':'at','…and':'and','civilbeat':'civil beat',\\\n",
        "    'TrumpCare':'Trump care','Trumpcare':'Trump care', 'OBAMAcare':'Obama care','ᴄʜᴇᴄᴋ':'check','ғᴏʀ':'for','ᴛʜɪs':'this','ᴄᴏᴍᴘᴜᴛᴇʀ':'computer',\\\n",
        "    'ᴍᴏɴᴛʜ':'month','ᴡᴏʀᴋɪɴɢ':'working','ᴊᴏʙ':'job','ғʀᴏᴍ':'from','Sᴛᴀʀᴛ':'start','gubmit':'submit','CO₂':'carbon dioxide','ғɪʀsᴛ':'first',\\\n",
        "    'ᴇɴᴅ':'end','ᴄᴀɴ':'can','ʜᴀᴠᴇ':'have','ᴛᴏ':'to','ʟɪɴᴋ':'link','ᴏғ':'of','ʜᴏᴜʀʟʏ':'hourly','ᴡᴇᴇᴋ':'week','ᴇɴᴅ':'end','ᴇxᴛʀᴀ':'extra',\\\n",
        "    'Gʀᴇᴀᴛ':'great','sᴛᴜᴅᴇɴᴛs':'student','sᴛᴀʏ':'stay','ᴍᴏᴍs':'mother','ᴏʀ':'or','ᴀɴʏᴏɴᴇ':'anyone','ɴᴇᴇᴅɪɴɢ':'needing','ᴀɴ':'an','ɪɴᴄᴏᴍᴇ':'income',\\\n",
        "    'ʀᴇʟɪᴀʙʟᴇ':'reliable','ғɪʀsᴛ':'first','ʏᴏᴜʀ':'your','sɪɢɴɪɴɢ':'signing','ʙᴏᴛᴛᴏᴍ':'bottom','ғᴏʟʟᴏᴡɪɴɢ':'following','Mᴀᴋᴇ':'make',\\\n",
        "    'ᴄᴏɴɴᴇᴄᴛɪᴏɴ':'connection','ɪɴᴛᴇʀɴᴇᴛ':'internet','financialpost':'financial post', 'ʜaᴠᴇ':' have ', 'ᴄaɴ':' can ', 'Maᴋᴇ':' make ', 'ʀᴇʟɪaʙʟᴇ':' reliable ', 'ɴᴇᴇᴅ':' need ',\n",
        "    'ᴏɴʟʏ':' only ', 'ᴇxᴛʀa':' extra ', 'aɴ':' an ', 'aɴʏᴏɴᴇ':' anyone ', 'sᴛaʏ':' stay ', 'Sᴛaʀᴛ':' start', 'SHOPO':'shop',\" :‑)\":'smiley',\\\n",
        "    \" :)\":'smiley',\" :-]\":'smiley',\" :]\":'smiley',\" :‑D\":'laughing',\" :D\":'laughing',\" =D\":'laughing',\" :‑(\":'sad',\" :(\":'sad',\" ;)\":'wink',\" :P\":'cheeky', \"he'll've\":\"he will have\",\n",
        "    \"how'd'y\":\"how do you\", \"i'd've\":\"i would have\",\"i'll've\":\"i will have\",\"it'd've\":\"it would have\", \"it'll've\":\"it will have\", \"mightn't've\":\"might not have\",\n",
        "    \"mustn't've\":\"must not have\", \"needn't've\":\"need not have\", \"o'clock\":\"of the clock\", \"oughtn't've\":\"ought not have\", \"shan't've\":\"shall not have\", \"she'd've\":\"she would have\",\n",
        "    \"she'll've\":\"she will have\", \"shouldn't've\":\"should not have\", \"so've\":\"so have\", \"so's\":\"so is\", \"that'd've\":\"that would have\", \"there'd've\":\"there would have\",\n",
        "    \"they'd've\":\"they would have\", \"they'll've\":\"they will have\", \"to've\":\"to have\", \"we'd've\":\"we would have\", \"we'll've\":\"we will have\", \"what'll've\":\"what will have\",\n",
        "    \"when's\":\"when is\", \"when've\":\"when have\", \"where've\":\"where have\", \"who'll've\":\"who will have\", \"why's\":\"why is\", \"why've\":\"why have\", \"will've\":\"will have\", \"won't've\":\"will not have\",\n",
        "    \"wouldn't've\":\"would not have\", \"y'alls\":\"you alls\", \"y'all'd\":\"you all would\", \"y'all'd've\":\"you all would have\", \"y'all're\":\"you all are\", \"y'all've\":\"you all have\", \"you'd've\":\"you would have\", \"you'll've\":\"you will have\",\n",
        "    }"
      ],
      "execution_count": 363,
      "outputs": []
    },
    {
      "cell_type": "code",
      "metadata": {
        "id": "XhWv8a76GG2w"
      },
      "source": [
        "special_characters = {\n",
        "    \"’\": \"'\", \"‘\": \"'\", \"´\": \"'\", \"`\": \"'\", \"…\": \"...\", \"&\": \" and \", \"“\": '\"', \"”\": '\"',\n",
        "    \"⁰\": \"0\", \"¹\": \"1\", \"²\": \"2\", \"³\": \"3\", \"⁴\": \"4\", \"⁵\": \"5\", \"⁶\": \"6\", \"⁷\": \"7\", \"⁸\": \"8\", \"⁹\": \"9\",\n",
        "    \"₀\": \"0\", \"₁\": \"1\", \"₂\": \"2\", \"₃\": \"3\", \"₄\": \"4\", \"₅\": \"5\", \"₆\": \"6\", \"₇\": \"7\", \"₈\": \"8\", \"₉\": \"9\", \n",
        "    \"ᴀ\": \"a\", \"ʙ\": \"b\", \"ᴄ\": \"c\", \"ᴅ\": \"d\", \"ᴇ\": \"e\", \"ғ\": \"f\", \"ɢ\": \"g\", \"ʜ\": \"h\", \"ɪ\": \"i\", \n",
        "    \"ᴊ\": \"j\", \"ᴋ\": \"k\", \"ʟ\": \"l\", \"ᴍ\": \"m\", \"ɴ\": \"n\", \"ᴏ\": \"o\", \"ᴘ\": \"p\", \"ǫ\": \"q\", \"ʀ\": \"r\", \n",
        "    \"s\": \"s\", \"ᴛ\": \"t\", \"ᴜ\": \"u\", \"ᴠ\": \"v\", \"ᴡ\": \"w\", \"x\": \"x\", \"ʏ\": \"y\", \"ᴢ\": \"z\"\n",
        "}"
      ],
      "execution_count": 364,
      "outputs": []
    },
    {
      "cell_type": "code",
      "metadata": {
        "id": "qrw8IigP54Lf"
      },
      "source": [
        "def remove_whitespace(text):\n",
        "    \"\"\"remove whitespaces from text\"\"\"\n",
        "\n",
        "    text = text.strip()\n",
        "    return \" \".join(text.split())\n",
        "\n",
        "punctuations = string.punctuation\n",
        "\n",
        "def remove_punctuation(text):\n",
        "  \"\"\" function to remove punctuations \"\"\"\n",
        "\n",
        "  return text.translate(str.maketrans('', '', punctuations))\n",
        "\n",
        "def replace_usernames(text, filler='user'):\n",
        "    \"\"\" To remove twitter handles \"\"\"\n",
        "\n",
        "    username_regex = re.compile(r'(^|[^@\\w])@(\\w{1,15})\\b')\n",
        "\n",
        "    text = text.replace('@<user>', f'{filler}')\n",
        "\n",
        "    text = re.sub(username_regex, filler, text)\n",
        "\n",
        "    text = text.replace(filler, f' {filler} ')\n",
        "\n",
        "    text = ' '.join(text.split())\n",
        "\n",
        "    return text\n",
        "  \n",
        "def replace_urls(text, filler='url'):\n",
        "\n",
        "    \"\"\" replacing urls \"\"\"\n",
        "\n",
        "    url_regex = re.compile(r'((www\\.[^\\s]+)|(https?://[^\\s]+)|(http?://[^\\s]+))')\n",
        "\n",
        "    text = text.replace('<url>', filler)\n",
        "\n",
        "    text = re.sub(url_regex, filler, text)\n",
        "\n",
        "    text = text.replace(filler, f' {filler} ')\n",
        "\n",
        "    text = ' '.join(text.split())\n",
        "\n",
        "    return text\n",
        "\n",
        "def expand_contractions(text,contraction_mapping):\n",
        "  \"\"\" expanding contractions \"\"\"\n",
        "\n",
        "  for i in contraction_mapping:\n",
        "    if i in text:\n",
        "      text = text.replace(i, contraction_mapping[i])\n",
        "\n",
        "  return text\n",
        "\n",
        "def replace_special_characters(text, special_characters):\n",
        "  special_characters_re = re.compile('({})'.format('|'.join(special_characters.keys())))\n",
        "  special_characters_map = lambda match: special_characters[match.group(0)]\n",
        "  \n",
        "  text = special_characters_re.sub(special_characters_map, text)\n",
        "  return text\n",
        "\n",
        "\n",
        "with open('/content/Emoji_Dict.p', 'rb') as fp:\n",
        "  Emoji_Dict = pickle.load(fp)\n",
        "\n",
        "Emoji_Dict = {v: k for k, v in Emoji_Dict.items()}\n",
        "\n",
        "def replace_remove_emoji(text, Emoji_Dict):\n",
        "  emoji_pattern = re.compile(\"[\"\n",
        "                          u\"\\U0001F600-\\U0001F64F\" # emoticons\n",
        "                          u\"\\U0001F300-\\U0001F5FF\" # symbols & pictographs\n",
        "                          u\"\\U0001F680-\\U0001F6FF\" # transport & map symbols\n",
        "                          u\"\\U0001F1E0-\\U0001F1FF\" # flags (iOS)\n",
        "                          u\"\\U00002702-\\U000027B0\"\n",
        "                          u\"\\U000024C2-\\U0001F251\"\n",
        "                          \"]+\", flags=re.UNICODE)\n",
        "  \n",
        "  for emo in Emoji_Dict:\n",
        "    if emo in text:\n",
        "      text = re.sub(r'('+emo+')', \"_\".join(Emoji_Dict[emo].replace(\",\",\"\").replace(\":\",\"\").split()), text)\n",
        "  \n",
        "  text = emoji.get_emoji_regexp().sub(u'', text) \n",
        "\n",
        "  return text\n",
        "\n",
        "def strip_chinese(string):\n",
        "  en_list = re.findall(u'[^\\u4E00-\\u9FA5]', string)\n",
        "  for c in string:\n",
        "    if c not in en_list:\n",
        "      string = string.replace(c, '')\n",
        "  return string\n",
        "\n",
        "stopword = set(stopwords.words('english'))\n",
        "def remove_stopwords(text, stopword):\n",
        "    \"\"\"function to remove the stopwords\"\"\"\n",
        "\n",
        "    return \" \".join([word for word in str(text).split() if word not in stopword])\n",
        "\n",
        "def remove_accents(text):\n",
        "  text = unicodedata.normalize('NFKD', text).encode('ascii', 'ignore').decode('utf-8', 'ignore')\n",
        "  return text\n",
        "  "
      ],
      "execution_count": 365,
      "outputs": []
    },
    {
      "cell_type": "code",
      "metadata": {
        "id": "__KiNOFo7jOp"
      },
      "source": [
        "def data_preprocessing(text, contraction_mapping, stopword, special_characters, Emoji_Dict, \n",
        "                       lowercase=True, punctuations=True, usernames=True, urls=True,  \n",
        "                       contractions=True, special_chars=True, emoji=True, chinese=True, \n",
        "                       stop_words=True, accented_chars=True, extra_whitespace=True):\n",
        "\n",
        "  if lowercase == True: #convert all characters to lowercase\n",
        "    text = text.lower()\n",
        "  \n",
        "  if extra_whitespace == True: \n",
        "    text = remove_whitespace(text)\n",
        "        \n",
        "  if accented_chars == True: #replaced accented characters\n",
        "    text = remove_accents(text)\n",
        "\n",
        "  if chinese  == True:\n",
        "    text = strip_chinese(text)\n",
        "\n",
        "  if contractions == True: #expand contractions\n",
        "    text = expand_contractions(text, contraction_mapping)\n",
        "\n",
        "  if emoji == True:\n",
        "    text = replace_remove_emoji(text, Emoji_Dict)\n",
        "\n",
        "  if stop_words == True:\n",
        "    text = remove_stopwords(text, stopword)\n",
        "\n",
        "  if special_chars == True: \n",
        "    text = replace_special_characters(text, special_characters)\n",
        "\n",
        "  if punctuations == True:\n",
        "    text = remove_punctuation(text)\n",
        "\n",
        "  if usernames == True:\n",
        "    text = replace_usernames(text)\n",
        "\n",
        "  if urls == True:\n",
        "    text = replace_urls(text)\n",
        "\n",
        "  return text\n"
      ],
      "execution_count": 366,
      "outputs": []
    },
    {
      "cell_type": "code",
      "metadata": {
        "id": "7tioDQHKhhp3"
      },
      "source": [
        "text = full_data['text'].values\n",
        "title = full_data['title'].values\n",
        "\n",
        "for i in tqdm(range(data.shape[0])):\n",
        "  title[i] = data_preprocessing(title[i], contraction_mapping, stopword, special_characters, Emoji_Dict)\n",
        "\n",
        "for i in tqdm(range(data.shape[0])):\n",
        "  text[i] = data_preprocessing(text[i], contraction_mapping, stopword, special_characters, Emoji_Dict)\n",
        "\n",
        "full_data['modified_title'] = title\n",
        "full_data['modified_text'] = text\n",
        "\n",
        "full_data.to_csv('/content/full_data.csv', index=False, columns=list(full_data.columns))"
      ],
      "execution_count": null,
      "outputs": []
    },
    {
      "cell_type": "code",
      "metadata": {
        "id": "OVjcM3TxcOWv"
      },
      "source": [
        "full_data = pd.read_csv('/content/full_data.csv')\n",
        "full_data['combined'] = full_data['title'] + \" \" + full_data['text'] \n",
        "full_data = full_data.dropna()"
      ],
      "execution_count": 242,
      "outputs": []
    },
    {
      "cell_type": "markdown",
      "metadata": {
        "id": "X-8XfWVHJ3Gv"
      },
      "source": [
        "## 4. Pre-analysis"
      ]
    },
    {
      "cell_type": "markdown",
      "metadata": {
        "id": "jb8aml4-tSmi"
      },
      "source": [
        "## 4.1 Distribution of True/Fake"
      ]
    },
    {
      "cell_type": "code",
      "metadata": {
        "colab": {
          "base_uri": "https://localhost:8080/",
          "height": 281
        },
        "id": "WhP0yfmktwtZ",
        "outputId": "f1a7fb48-314a-4634-c096-fd4f87bb0ca8"
      },
      "source": [
        "true_data = full_data[full_data['label']== 1]\n",
        "fake_data = full_data[full_data['label']== 0]\n",
        "\n",
        "plt.ylabel('Count')\n",
        "plt.title('Total Number of news articles')\n",
        "plt.bar(x='True', height=true_data.shape[0])\n",
        "plt.bar(x='Fake', height=fake_data.shape[0])\n",
        "plt.show()"
      ],
      "execution_count": 275,
      "outputs": [
        {
          "output_type": "display_data",
          "data": {
            "image/png": "[encoded data removed]",
            "text/plain": [
              "<Figure size 432x288 with 1 Axes>"
            ]
          },
          "metadata": {
            "tags": [],
            "needs_background": "light"
          }
        }
      ]
    },
    {
      "cell_type": "markdown",
      "metadata": {
        "id": "jw_WyJn7wcvB"
      },
      "source": [
        "## 4.2 Distribution of True/Fake Subjects"
      ]
    },
    {
      "cell_type": "code",
      "metadata": {
        "colab": {
          "base_uri": "https://localhost:8080/",
          "height": 344
        },
        "id": "X1EFrxdUw9St",
        "outputId": "fd14e0f7-419e-4ecd-bf90-b2192522094a"
      },
      "source": [
        "subject_count = full_data.groupby('subject').apply(lambda z:z['text'].count())\n",
        "\n",
        "plt.ylabel('Count')\n",
        "plt.title('Total Number of news articles')\n",
        "plt.bar(x=subject_count.keys(),  height=subject_count.values)\n",
        "plt.xticks(rotation = 45)\n",
        "\n",
        "plt.show()"
      ],
      "execution_count": 287,
      "outputs": [
        {
          "output_type": "display_data",
          "data": {
            "image/png": "[encoded data removed]",
            "text/plain": [
              "<Figure size 432x288 with 1 Axes>"
            ]
          },
          "metadata": {
            "tags": [],
            "needs_background": "light"
          }
        }
      ]
    },
    {
      "cell_type": "markdown",
      "metadata": {
        "id": "QnO32KcZiLNs"
      },
      "source": [
        "# 5. Model"
      ]
    },
    {
      "cell_type": "markdown",
      "metadata": {
        "id": "w0d8o5GVCMpZ"
      },
      "source": [
        "## 5.1 Baseline-1: Logistic Regression"
      ]
    },
    {
      "cell_type": "code",
      "metadata": {
        "id": "tKAmQhcLDeR-"
      },
      "source": [
        "\"\"\" Params \"\"\"\n",
        "\n",
        "test_train_split=0.8"
      ],
      "execution_count": 156,
      "outputs": []
    },
    {
      "cell_type": "code",
      "metadata": {
        "id": "olcOr327Cb4N"
      },
      "source": [
        "def get_train_test(full_data, feature, test_train_split):\n",
        "  \"\"\" Get train-test splits \"\"\"\n",
        "\n",
        "  if feature == 'title':\n",
        "    X = full_data['title']\n",
        "  elif feature == 'text':\n",
        "    X = full_data['text']\n",
        "  elif feature == 'both':\n",
        "    X = full_data['combined']\n",
        "  \n",
        "  Y = full_data['label']\n",
        "  train_x, test_x, train_y, test_y = train_test_split(X, Y, test_size=(1-test_train_split),random_state=2)\n",
        "  return train_x, test_x, train_y, test_y\n",
        "\n",
        "def get_vectors(train_x, test_x):  \n",
        "  \"\"\" Get train-test vectors \"\"\"\n",
        "\n",
        "  train_vector = CountVectorizer().fit(train_x)\n",
        "  train_vector_x = train_vector.transform(train_x)\n",
        "  test_vector_x = train_vector.transform(test_x)\n",
        "\n",
        "  return train_vector, train_vector_x, test_vector_x"
      ],
      "execution_count": 157,
      "outputs": []
    },
    {
      "cell_type": "markdown",
      "metadata": {
        "id": "LN7Tk4gqMwk9"
      },
      "source": [
        "***1. Considering only title***"
      ]
    },
    {
      "cell_type": "code",
      "metadata": {
        "colab": {
          "base_uri": "https://localhost:8080/",
          "height": 296
        },
        "id": "xQT_F8twDwCA",
        "outputId": "30c1637b-4398-4c5c-c5cf-6ec2d5968cab"
      },
      "source": [
        "train_x, test_x, train_y, test_y = get_train_test(full_data, 'title', test_train_split)\n",
        "train_vector, train_vector_x, test_vector_x = get_vectors(train_x, test_x)\n",
        "\n",
        "baseline_model_1 = LogisticRegression(C=2, max_iter=200)\n",
        "baseline_model_1.fit(train_vector_x, train_y)\n",
        "preds= baseline_model_1.predict(test_vector_x)\n",
        "acc = roc_auc_score(test_y, preds)\n",
        "print(acc)\n",
        "\n",
        "plot_roc_curve(baseline_model_1, test_vector_x, test_y)\n",
        "plt.show()"
      ],
      "execution_count": 158,
      "outputs": [
        {
          "output_type": "stream",
          "text": [
            "0.9403372404753301\n"
          ],
          "name": "stdout"
        },
        {
          "output_type": "display_data",
          "data": {
            "image/png": "[encoded data removed]",
            "text/plain": [
              "<Figure size 432x288 with 1 Axes>"
            ]
          },
          "metadata": {
            "tags": [],
            "needs_background": "light"
          }
        }
      ]
    },
    {
      "cell_type": "markdown",
      "metadata": {
        "id": "duXYmKDDM-WB"
      },
      "source": [
        "***2. Considering only Text***"
      ]
    },
    {
      "cell_type": "code",
      "metadata": {
        "colab": {
          "base_uri": "https://localhost:8080/",
          "height": 296
        },
        "id": "gNiCykCMM7VG",
        "outputId": "a4d0c801-f4e0-4b03-d751-55aa9d0bde72"
      },
      "source": [
        "train_x, test_x, train_y, test_y = get_train_test(full_data, 'text', test_train_split)\n",
        "train_vector, train_vector_x, test_vector_x = get_vectors(train_x, test_x)\n",
        "\n",
        "baseline_model_1 = LogisticRegression(C=2, max_iter=200)\n",
        "baseline_model_1.fit(train_vector_x, train_y)\n",
        "preds= baseline_model_1.predict(test_vector_x)\n",
        "acc = roc_auc_score(test_y, preds)\n",
        "print(acc)\n",
        "\n",
        "plot_roc_curve(baseline_model_1, test_vector_x, test_y)\n",
        "plt.show()"
      ],
      "execution_count": 159,
      "outputs": [
        {
          "output_type": "stream",
          "text": [
            "0.9951889830462762\n"
          ],
          "name": "stdout"
        },
        {
          "output_type": "display_data",
          "data": {
            "image/png": "[encoded data removed]",
            "text/plain": [
              "<Figure size 432x288 with 1 Axes>"
            ]
          },
          "metadata": {
            "tags": [],
            "needs_background": "light"
          }
        }
      ]
    },
    {
      "cell_type": "markdown",
      "metadata": {
        "id": "BNDUGIsbNAXe"
      },
      "source": [
        "***3. Considering both***"
      ]
    },
    {
      "cell_type": "code",
      "metadata": {
        "colab": {
          "base_uri": "https://localhost:8080/",
          "height": 296
        },
        "id": "S5GYPF2qNFm1",
        "outputId": "23d8250f-6ded-428a-fd4e-4b1124f88902"
      },
      "source": [
        "train_x, test_x, train_y, test_y = get_train_test(full_data, 'both', test_train_split)\n",
        "train_vector, train_vector_x, test_vector_x = get_vectors(train_x, test_x)\n",
        "\n",
        "baseline_model_1 = LogisticRegression(C=2, max_iter=200)\n",
        "baseline_model_1.fit(train_vector_x, train_y)\n",
        "preds= baseline_model_1.predict(test_vector_x)\n",
        "acc = roc_auc_score(test_y, preds)\n",
        "print(acc)\n",
        "\n",
        "plot_roc_curve(baseline_model_1, test_vector_x, test_y)\n",
        "plt.show()"
      ],
      "execution_count": 160,
      "outputs": [
        {
          "output_type": "stream",
          "text": [
            "0.9950485336080739\n"
          ],
          "name": "stdout"
        },
        {
          "output_type": "display_data",
          "data": {
            "image/png": "[encoded data removed]",
            "text/plain": [
              "<Figure size 432x288 with 1 Axes>"
            ]
          },
          "metadata": {
            "tags": [],
            "needs_background": "light"
          }
        }
      ]
    },
    {
      "cell_type": "markdown",
      "metadata": {
        "id": "4RTrRcC7iPN_"
      },
      "source": [
        "## 5.2 Baseline-2: LSTM Based Model"
      ]
    },
    {
      "cell_type": "code",
      "metadata": {
        "id": "uxeAd2Rhx2sT"
      },
      "source": [
        "\"\"\" Params \"\"\"\n",
        "\n",
        "max_vocab = 10000\n",
        "maxlen = 256\n",
        "test_train_split = 0.8\n",
        "val_split = 0.1\n",
        "batch_size=32\n",
        "lr=1e-4"
      ],
      "execution_count": 175,
      "outputs": []
    },
    {
      "cell_type": "code",
      "metadata": {
        "id": "9uULpfC5EwOk"
      },
      "source": [
        "X = full_data['title']\n",
        "Y = full_data['label']\n",
        "\n",
        "train_x, test_x, train_y, test_y = train_test_split(X, Y, test_size=(1-test_train_split),random_state=2)\n",
        "\n",
        "tokenizer = Tokenizer(num_words=max_vocab)\n",
        "tokenizer.fit_on_texts(train_x)\n",
        "\n",
        "train_x = tokenizer.texts_to_sequences(train_x)\n",
        "test_x = tokenizer.texts_to_sequences(test_x)\n",
        "\n",
        "train_x = tf.keras.preprocessing.sequence.pad_sequences(train_x, padding='post', maxlen=maxlen)\n",
        "test_x = tf.keras.preprocessing.sequence.pad_sequences(test_x, padding='post', maxlen=maxlen)"
      ],
      "execution_count": 176,
      "outputs": []
    },
    {
      "cell_type": "code",
      "metadata": {
        "id": "5uqRbwKaEwRW"
      },
      "source": [
        "baseline_model = tf.keras.Sequential([\n",
        "    tf.keras.layers.Embedding(max_vocab, 32),\n",
        "    tf.keras.layers.Bidirectional(tf.keras.layers.LSTM(64)), #return_sequences=True\n",
        "    tf.keras.layers.Dense(64, activation='relu'),\n",
        "    tf.keras.layers.Dropout(0.5),\n",
        "    tf.keras.layers.Dense(1)\n",
        "])\n",
        "\n",
        "baseline_model.summary()"
      ],
      "execution_count": null,
      "outputs": []
    },
    {
      "cell_type": "code",
      "metadata": {
        "id": "kK3f4QijEwTx"
      },
      "source": [
        "early_stopping = tf.keras.callbacks.EarlyStopping(monitor='val_loss', patience=2, restore_best_weights=True)\n",
        "baseline_model.compile(loss=tf.keras.losses.BinaryCrossentropy(from_logits=True),\n",
        "              optimizer=tf.keras.optimizers.Adam(1e-4),\n",
        "              metrics=['accuracy'])\n",
        "\n",
        "history = baseline_model.fit(train_x, train_y, epochs=7,validation_split=val_split, batch_size=batch_size, shuffle=True, callbacks=[early_stopping, WandbCallback()] ,verbose=1)"
      ],
      "execution_count": null,
      "outputs": []
    },
    {
      "cell_type": "code",
      "metadata": {
        "id": "Xheq-Xms-8eF"
      },
      "source": [
        "baseline_model.evaluate(test_x, test_y)\n",
        "output = baseline_model.predict(test_x)"
      ],
      "execution_count": null,
      "outputs": []
    },
    {
      "cell_type": "code",
      "metadata": {
        "id": "X1pRUMh4FVj7"
      },
      "source": [
        "def plot_metrics(history):\n",
        "\n",
        "  \"\"\" Plotting model Loss and Accuracy Curves\"\"\"\n",
        "\n",
        "  hist_dict = history.history\n",
        "\n",
        "  acc = hist_dict['accuracy']\n",
        "  val_acc = hist_dict['val_accuracy']\n",
        "  loss = hist_dict['loss']\n",
        "  val_loss = hist_dict['val_loss']\n",
        "  epochs = history.epoch\n",
        "\n",
        "  plt.figure()\n",
        "  plt.plot(epochs, loss, 'r', label='Train loss')\n",
        "  plt.plot(epochs, val_loss, 'b', label='Validation loss')\n",
        "  plt.title('Training and validation loss')\n",
        "  plt.xlabel('Epochs')\n",
        "  plt.ylabel('Loss')\n",
        "  plt.legend()\n",
        "  plt.show()\n",
        "\n",
        "  plt.figure()\n",
        "  plt.plot(epochs, acc, 'g', label='Train accuracy')\n",
        "  plt.plot(epochs, val_acc, 'b', label='Validation accuracy')\n",
        "  plt.title('Training and validation accuracy')\n",
        "  plt.xlabel('Epochs')\n",
        "  plt.ylabel('Accuracy')\n",
        "  plt.legend()\n",
        "  plt.ylim((0.5,1))\n",
        "  plt.show()\n",
        "\n",
        "def plot_auc(test_y, output):\n",
        "\n",
        "  \"\"\" Plotting AUC curve \"\"\"\n",
        "\n",
        "  ns_probs = [0 for _ in range(len(output))]\n",
        "\n",
        "  lr_fpr, lr_tpr, _ = roc_curve(y_true=test_y, y_score=output)\n",
        "  ns_fpr, ns_tpr, _ = roc_curve(y_true=test_y, y_score=ns_probs)\n",
        "\n",
        "  plt.plot(ns_fpr, ns_tpr, linestyle='--', label='No Skill')\n",
        "  plt.plot(lr_fpr, lr_tpr, marker='.', label='Baseline2')\n",
        "  plt.xlabel('False Positive Rate')\n",
        "  plt.ylabel('True Positive Rate')\n",
        "  plt.legend()\n",
        "  plt.show()\n",
        "\n",
        "def plot_confusion_matrix(test_y, output):\n",
        "\n",
        "  \"\"\" Plotting confusion matrix \"\"\"\n",
        "\n",
        "  prediction = []\n",
        "\n",
        "  for i in output:\n",
        "    if i>=0.5:\n",
        "      prediction.append(1)\n",
        "    else:\n",
        "      prediction.append(0)\n",
        "\n",
        "  matrix = confusion_matrix(prediction, test_y)\n",
        "  plt.figure()\n",
        "  ax= plt.subplot()\n",
        "  sns.heatmap(matrix, fmt = 'd', annot=True, ax = ax)\n",
        "\n",
        "  ax.set_xlabel('Predicted Labels')\n",
        "  ax.set_ylabel('True Labels')\n",
        "  ax.set_title('Confusion Matrix') \n",
        "  ax.xaxis.set_ticklabels([0,1])\n",
        "  ax.yaxis.set_ticklabels([0,1])"
      ],
      "execution_count": 201,
      "outputs": []
    },
    {
      "cell_type": "code",
      "metadata": {
        "id": "sPHvaK_JkU6I"
      },
      "source": [
        "plot_auc(test_y, output)\n",
        "plot_confusion_matrix(test_y, output)\n",
        "plot_metrics(history)"
      ],
      "execution_count": null,
      "outputs": []
    },
    {
      "cell_type": "markdown",
      "metadata": {
        "id": "yCyCNz6bJrcS"
      },
      "source": [
        "## 6. Post-Analysis\n",
        "\n",
        "For all the models, we are getting astonishingly high accuracies. Let's have a look at any possible reasons for this. "
      ]
    },
    {
      "cell_type": "markdown",
      "metadata": {
        "id": "t_YguLzGfJv_"
      },
      "source": [
        "## 6.1 Checking for Duplicate Rows\n",
        "\n",
        "As seen there are a lot of duplicate title and text in true and fake data. The performance of the model decreased. Hence, this was one of the reasons for high performance of the model.\n"
      ]
    },
    {
      "cell_type": "code",
      "metadata": {
        "id": "eNcICQykjI8E"
      },
      "source": [
        "true_data = full_data[full_data['label'] == 1]\n",
        "fake_data = full_data[full_data['label'] == 0]\n",
        "\n",
        "# duplicated title - 591\n",
        "num_true_title_duplicates = true_data.duplicated(subset=['title']).sum()\n",
        "\n",
        "# duplicated text - 225\n",
        "num_true_text_duplicates = true_data.duplicated(subset=['text']).sum()\n",
        "\n",
        "# duplicated title - 5578\n",
        "num_fake_title_duplicates = fake_data.duplicated(subset=['title']).sum()\n",
        "\n",
        "# duplicated text - 6026\n",
        "num_fake_text_duplicates = fake_data.duplicated(subset=['text']).sum()\n",
        "\n",
        "## title common to both true and fake\n",
        "common_title = true_data[true_data['title'].isin(fake_data['title'])].shape\n",
        "\n",
        "# text common to both true and fake\n",
        "common_text = true_data[true_data['text'].isin(fake_data['text'])].shape\n",
        "\n",
        "print(num_true_title_duplicates)\n",
        "print(num_true_text_duplicates)\n",
        "print(num_fake_title_duplicates)\n",
        "print(num_fake_text_duplicates)\n",
        "print(common_title)\n",
        "print(common_text)"
      ],
      "execution_count": null,
      "outputs": []
    },
    {
      "cell_type": "code",
      "metadata": {
        "id": "5JWWA7qhgTZl"
      },
      "source": [
        ""
      ],
      "execution_count": null,
      "outputs": []
    }
  ]
}